{
 "cells": [
  {
   "cell_type": "markdown",
   "metadata": {},
   "source": [
    "### LISTA PARA TESTAR O CONHECIMENTO DO TERCEIRO CAPITULO"
   ]
  },
  {
   "cell_type": "markdown",
   "metadata": {},
   "source": [
    "(1) Dentre os exemplos abaixo, não pode ser considerado um algoritmo: \n",
    "- [ ] Guia de instalação do Ubuntu \n",
    "- [ ] Manual de instruções de uso de micro-ondas\n",
    "- [ ] Receita de sorvete \n",
    "- [X] Cardápio de restaurante \n",
    "\n"
   ]
  },
  {
   "cell_type": "markdown",
   "metadata": {},
   "source": [
    "(2) A afirmação *“O algoritmo é uma sequência de passos lógicos e infinitos e não-ambíguos que permitem solucionar problemas”* é: \n",
    "- [ ] Verdadeira \n",
    "- [X] Falsa \n"
   ]
  },
  {
   "cell_type": "markdown",
   "metadata": {},
   "source": [
    "(3) A afirmação “Um programa de computador é um algoritmo escrito em um formato compreensível pelo computador” é: \n",
    "- [X] Verdadeira \n",
    "- [ ] Falsa \n"
   ]
  },
  {
   "cell_type": "markdown",
   "metadata": {},
   "source": [
    "(4) As formas de representação de algoritmo mais conhecidas são? \n",
    "- [X] Fluxograma, Descrição narrativa, Pseudocódigo \n",
    "- [ ] Diagrama de classe, Fluxograma, Pseudocódigo \n",
    "- [ ] Pseudocódigo, Prototipagem, Fluxograma \n",
    "- [ ] Pseudocódigo, Fluxograma, Modelagem de dados \n",
    "- [ ] Descrição narrativa, prototipagem, fluxograma \n"
   ]
  },
  {
   "cell_type": "markdown",
   "metadata": {},
   "source": [
    "(5) A afirmação *“É um consenso entre os programadores que a melhor forma de representação de um algoritmo é a descrição narrativa”* é: \n",
    "- [ ] Verdadeira \n",
    "- [X] Falsa \n"
   ]
  },
  {
   "cell_type": "markdown",
   "metadata": {},
   "source": [
    "(6) A afirmação *“O fluxograma utiliza símbolos específicos, que podem variar de acordo com a ferramenta, para representar graficamente os algoritmos”* é: \n",
    "- [X] Verdadeira \n",
    "- [ ] Falsa \n"
   ]
  },
  {
   "cell_type": "markdown",
   "metadata": {},
   "source": [
    "### LISTA PARA TESTAR O CONHECIMENTO DO TERCEIRO CAPITULO"
   ]
  },
  {
   "cell_type": "markdown",
   "metadata": {},
   "source": [
    "### Faça um pseudocódigo para os exercicios a seguir:"
   ]
  },
  {
   "cell_type": "markdown",
   "metadata": {},
   "source": [
    "(7) Alice pagou uma televisão de R$ 3250.00 em 12 vezes sem juros. Qual o valor de cada parcela?"
   ]
  },
  {
   "cell_type": "code",
   "execution_count": null,
   "metadata": {},
   "outputs": [],
   "source": [
    "# entre com o valor do item e salvar em valoritem\n",
    "# entre com a quantidade de parcelas e salvar em qtdparcelas\n",
    "# calcular valoritem / qtdparcelas e salvar em resultado\n",
    "# imprimir o valor de resultado na tela"
   ]
  },
  {
   "cell_type": "markdown",
   "metadata": {},
   "source": [
    "(8) Uma folha de papel sulfite tem 0.1mm de espessura. Dobrando a folha ao meio, a espessura passa a ser 0.2mm. Dobrando ao meio de novo, a espessura vai para 0.4mm. Mais uma vez e a espessura aumenta para 0.8mm, e assim vai. Sabemos que não é possível dobrar uma folha de papel sulfite ao meio mais do que 5 ou 6 vezes mas, supondo que fosse possível dobrá-la 27 vezes, qual seria a espessura da dobradura resultante?\n"
   ]
  },
  {
   "cell_type": "code",
   "execution_count": null,
   "metadata": {},
   "outputs": [],
   "source": [
    "# coloque sua resposta aqui. Use os # para escrever em comentários.\n",
    "# entre com o valor da espessura inicial (0.1) e salvar em e1\n",
    "# entre com a quantidade de vezes em que o papel sera dobrado (27) e salvar em d1\n",
    "# calcular e2 = e1*2\n",
    "# enquanto contar for <= d1, faça: \n",
    "# resultado = e2*2\n",
    "# contar = contar+1\n",
    "# imprimir o valor de resultado na tela (13421772.8)\n",
    "# imprimir o valor de contar na tela (27)"
   ]
  },
  {
   "cell_type": "markdown",
   "metadata": {},
   "source": [
    "(9) Uma lanchonete vende sanduíches e tem um programa de fidelidade: cada cliente tem um cartão e a cada compra o cliente recebe um carimbo em seu cartão.\n",
    "\n",
    "Após acumular 5 carimbos, o cliente ganha uma porção de batata frita de brinde.\n",
    "\n",
    "Se o cliente tem $43$ carimbos, quantas porções de batata frita ele ganhou de brinde até agora?"
   ]
  },
  {
   "cell_type": "code",
   "execution_count": null,
   "metadata": {},
   "outputs": [],
   "source": [
    "# entre com a quantidade de carimbos acumulados (43) e salvar em c1\n",
    "# salvar a quantidade de carimbos necessarios (5) em cf\n",
    "# calcular resultado = c1 / cf\n",
    "# imprimir o valor de resultado na tela (8,6)"
   ]
  },
  {
   "cell_type": "markdown",
   "metadata": {},
   "source": [
    "(10) Uma barra de chocolate tem 32 quadradinhos. Uma mãe quer dividir essa barra de chocolate entre seus 5 filhos. Nenhum deles pode receber menos que cada um dos outros para não se sentir preterido.\n",
    "\n",
    "Qual é o número mínimo de quadradinhos que a mãe precisa esconder (comer) para poder dividir o restante equanimemente entre os 5?"
   ]
  },
  {
   "cell_type": "code",
   "execution_count": null,
   "metadata": {},
   "outputs": [],
   "source": [
    "# entre com a quantidade de quadrados da barra de chocolate (32) e salve em quadrados\n",
    "# entre com a quantidade de filhos (5) e salve em filhos\n",
    "# calcular divisao = quadrados / filhos\n",
    "# se divisao for igual a 0 imprimir na tela \"Não precisa esconder\" senão\n",
    "# "
   ]
  },
  {
   "cell_type": "markdown",
   "metadata": {},
   "source": [
    "(11) João faz 10 anos de idade hoje, neste exato momento! Na célula abaixo, calcule quantos segundos de vida ele acabou de comemorar.\n",
    "\n",
    "(Ignore os anos bissextos.)"
   ]
  },
  {
   "cell_type": "code",
   "execution_count": null,
   "metadata": {},
   "outputs": [],
   "source": [
    "# entre com a idade (10) e salve em idade\n",
    "# segundos = idade*60*60*24*365\n",
    "# imprimir o valor de segundos na tela (3155692600)"
   ]
  },
  {
   "cell_type": "markdown",
   "metadata": {},
   "source": [
    "(12) Uma torneira pinga a uma taxa de 1 gota por segundo. Cada gota possui um volume de 0.05 mililitros. Calcule o volume de água desperdiçado depois de exatos 3 dias de vazamento. Faça a conta de modo que a resposta seja em litros."
   ]
  },
  {
   "cell_type": "code",
   "execution_count": null,
   "metadata": {},
   "outputs": [],
   "source": [
    "# entre com a quantidade de dias (3) e salve em dias\n",
    "# VolumeGota = 0.05\n",
    "# SegundosDia = 60*60*24\n",
    "# calcular SegundosFinal = dias * SegundosDia\n",
    "# calcular VolumeMl = VolumeGota * SegundosFinal\n",
    "# calcular VolumeLts = VolumeMl/1000\n",
    "# imprimir o valor VolumeLts (12,96) na tela"
   ]
  },
  {
   "cell_type": "markdown",
   "metadata": {},
   "source": [
    "https://github.com/Felipsgami/Bases-Computacionais-da-Ciencia"
   ]
  },
  {
   "cell_type": "markdown",
   "metadata": {},
   "source": [
    "(13) Transforme e imprima quanto é $267580$ mililitros em litros, sem a parte decimal (ou seja, descartando os valores das casas decimais)."
   ]
  },
  {
   "cell_type": "code",
   "execution_count": null,
   "metadata": {},
   "outputs": [],
   "source": [
    "# entre com o volume em mililitros (267580) e salve em ml\n",
    "# calcular VolumeLts = ml / 1000\n",
    "# imprimir SemDecimal = (VolumeLts, 2)"
   ]
  },
  {
   "cell_type": "markdown",
   "metadata": {},
   "source": [
    "(14) Quantos segundos tem em $2$ dias e $25$ minutos?"
   ]
  },
  {
   "cell_type": "code",
   "execution_count": null,
   "metadata": {},
   "outputs": [],
   "source": [
    "# entre com a quantidade de dias (2) e salve em dias\n",
    "# entre com a quantidade de minutos (25) e salve em minutos\n",
    "# calcular DiasEmSegundos = dias*60*60*24\n",
    "# calcular MinutosEmSegundos = minutos*60\n",
    "# calcular SegundosFinal = DiasEmSegundos+MinutosEmSegundos\n",
    "# imprimir SegundosFinal na tela\n"
   ]
  },
  {
   "cell_type": "markdown",
   "metadata": {},
   "source": [
    "(15) Suponha que capacidade do tanque de gasolina de um  carro (em litros) é 55, e que o consumo de gasolina (em km/l) é 7.7. O seu programa deve imprimir: \"Carro consegue viajar\" xxx \"kilometros com o tanque cheio ate parar.\""
   ]
  },
  {
   "cell_type": "code",
   "execution_count": null,
   "metadata": {},
   "outputs": [],
   "source": [
    "# coloque sua resposta aqui. Use os # para escrever em comentários.\n"
   ]
  }
 ],
 "metadata": {
  "kernelspec": {
   "display_name": "Python 3 (ipykernel)",
   "language": "python",
   "name": "python3"
  },
  "language_info": {
   "codemirror_mode": {
    "name": "ipython",
    "version": 3
   },
   "file_extension": ".py",
   "mimetype": "text/x-python",
   "name": "python",
   "nbconvert_exporter": "python",
   "pygments_lexer": "ipython3",
   "version": "3.11.4"
  }
 },
 "nbformat": 4,
 "nbformat_minor": 2
}
