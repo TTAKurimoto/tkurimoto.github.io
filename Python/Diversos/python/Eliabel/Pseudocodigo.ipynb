{
 "cells": [
  {
   "cell_type": "markdown",
   "metadata": {},
   "source": [
    "# Pseudocodigo 1 - Carcular área\n",
    "\n",
    "Pseudocódigo para calculo da area de um paralelograma"
   ]
  },
  {
   "cell_type": "code",
   "execution_count": null,
   "metadata": {},
   "outputs": [],
   "source": [
    "# solicitar ao operador o valor da base\n",
    "# solicitar ao operador o valor da altura\n",
    "# calcular a area multiplicando a base pela altura\n",
    "# imprimir o resultado da multiplicação"
   ]
  },
  {
   "cell_type": "markdown",
   "metadata": {},
   "source": [
    "# Pseudocodigo 2 - Calculadora simples\n",
    "\n",
    "Pseudocódigo para uma calculadora simples"
   ]
  },
  {
   "cell_type": "code",
   "execution_count": null,
   "metadata": {},
   "outputs": [],
   "source": [
    "# solicitar ao operadora qual o primeiro numero e salvo em numero1\n",
    "# solicitar ao operadora qual o segundo numero e salvo em numero2\n",
    "# selecionar qual a operação irei realizar (+ , - , * , /)\n",
    "# se '+' : resultado = numero1 + numero2\n",
    "# se '-' : resultado = numero1 - numero2\n",
    "# se '*' : resultado = numero1 * numero2\n",
    "# se '/' : resultado = numero1 / numero2\n",
    "# imprimir o valor do resultado na saida"
   ]
  }
 ],
 "metadata": {
  "language_info": {
   "name": "python"
  },
  "orig_nbformat": 4
 },
 "nbformat": 4,
 "nbformat_minor": 2
}
