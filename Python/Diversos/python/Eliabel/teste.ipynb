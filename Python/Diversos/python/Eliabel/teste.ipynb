{
 "cells": [
  {
   "cell_type": "markdown",
   "metadata": {},
   "source": [
    "# Titulo\n",
    "## Titulo 2\n",
    "### Titulo 3\n",
    "\n",
    "Paragrafo normal\n",
    "\n",
    "Paragrafo ***normal 2***\n",
    "\n",
    "5. teste\n",
    "1. teste\n",
    "1. teste\n",
    "\n",
    "- teste\n",
    "- teste\n",
    "  - teste 2\n",
    "    - teste 3\n",
    "- teste\n",
    "\n",
    "# Lista de tarefas\n",
    "- [x] Tarefa 1\n",
    "- [ ] Tarefa 2\n",
    "- [ ] Tarefa 3\n",
    "\n",
    "\n",
    "# Links\n",
    "[Clique aqui](https://sbc.sp.senai.br/)\n",
    "\n",
    "# Imagem\n",
    "\n",
    "![Logo senai](https://upload.wikimedia.org/wikipedia/commons/thumb/8/8c/SENAI_S%C3%A3o_Paulo_logo.png/1280px-SENAI_S%C3%A3o_Paulo_logo.png)\n",
    "\n",
    "<img src=\"https://upload.wikimedia.org/wikipedia/commons/thumb/8/8c/SENAI_S%C3%A3o_Paulo_logo.png/1280px-SENAI_S%C3%A3o_Paulo_logo.png\" height=\"100px\"/>\n",
    "\n",
    "![Céu azul](imagem.jpeg)\n",
    "\n"
   ]
  },
  {
   "cell_type": "code",
   "execution_count": 1,
   "metadata": {},
   "outputs": [
    {
     "name": "stdout",
     "output_type": "stream",
     "text": [
      "Olá Mundo!\n"
     ]
    }
   ],
   "source": [
    "# Código que imprime na tela o texto \"Olá Mundo!\"\n",
    "print(\"Olá Mundo!\") # execução da instrução print"
   ]
  },
  {
   "cell_type": "markdown",
   "metadata": {},
   "source": [
    "# teste"
   ]
  },
  {
   "cell_type": "markdown",
   "metadata": {},
   "source": []
  },
  {
   "cell_type": "code",
   "execution_count": 2,
   "metadata": {},
   "outputs": [
    {
     "data": {
      "text/plain": [
       "4"
      ]
     },
     "execution_count": 2,
     "metadata": {},
     "output_type": "execute_result"
    }
   ],
   "source": [
    "2+2"
   ]
  },
  {
   "cell_type": "code",
   "execution_count": null,
   "metadata": {},
   "outputs": [],
   "source": []
  }
 ],
 "metadata": {
  "kernelspec": {
   "display_name": "base",
   "language": "python",
   "name": "python3"
  },
  "language_info": {
   "codemirror_mode": {
    "name": "ipython",
    "version": 3
   },
   "file_extension": ".py",
   "mimetype": "text/x-python",
   "name": "python",
   "nbconvert_exporter": "python",
   "pygments_lexer": "ipython3",
   "version": "3.11.4"
  },
  "orig_nbformat": 4
 },
 "nbformat": 4,
 "nbformat_minor": 2
}
