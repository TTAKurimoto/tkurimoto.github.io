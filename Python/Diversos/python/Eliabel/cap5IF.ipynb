{
 "cells": [
  {
   "cell_type": "code",
   "execution_count": 21,
   "metadata": {},
   "outputs": [],
   "source": [
    "x = 4"
   ]
  },
  {
   "cell_type": "code",
   "execution_count": 22,
   "metadata": {},
   "outputs": [
    {
     "name": "stdout",
     "output_type": "stream",
     "text": [
      "É o numero 4\n"
     ]
    }
   ],
   "source": [
    "if x == 4:\n",
    "    print(\"É o numero 4\")\n",
    "\n",
    "elif x == 3:\n",
    "    print(\"É o numero 3\")\n",
    "else:\n",
    "    print(\"Não é o numero 4\")"
   ]
  },
  {
   "cell_type": "code",
   "execution_count": 29,
   "metadata": {},
   "outputs": [
    {
     "name": "stdout",
     "output_type": "stream",
     "text": [
      "Letra é uma consoante!\n"
     ]
    }
   ],
   "source": [
    "letra = input(\"Digite uma letra: \")\n",
    "\n",
    "if (letra == 'a' or letra == 'e' \n",
    "    or letra == 'i' or letra == 'o' \n",
    "    or letra == 'u'):\n",
    "   print(\"Letra é uma vogal!\")\n",
    "else:\n",
    "   print(\"Letra é uma consoante!\")"
   ]
  },
  {
   "cell_type": "code",
   "execution_count": 28,
   "metadata": {},
   "outputs": [],
   "source": [
    "if x == 4 and letra =='b':\n",
    "    print(\"Letra é b e x é igual a 4\")"
   ]
  },
  {
   "cell_type": "code",
   "execution_count": 44,
   "metadata": {},
   "outputs": [
    {
     "name": "stdout",
     "output_type": "stream",
     "text": [
      "Letra é uma consoante!\n"
     ]
    }
   ],
   "source": [
    "letra = input(\"Digite uma letra: \")\n",
    "vogais = ['a','e','i','o','u']\n",
    "\n",
    "if letra in vogais:\n",
    "   print(\"Letra é uma vogal!\")\n",
    "elif letra not in vogais:\n",
    "   print(\"Letra é uma consoante!\")"
   ]
  },
  {
   "cell_type": "code",
   "execution_count": 40,
   "metadata": {},
   "outputs": [],
   "source": [
    "teste = False"
   ]
  },
  {
   "cell_type": "code",
   "execution_count": 42,
   "metadata": {},
   "outputs": [
    {
     "name": "stdout",
     "output_type": "stream",
     "text": [
      "Verdadeiro\n"
     ]
    }
   ],
   "source": [
    "if not teste:\n",
    "    print(\"Verdadeiro\")\n",
    "else:\n",
    "    print(\"Falso\")"
   ]
  },
  {
   "cell_type": "code",
   "execution_count": 43,
   "metadata": {},
   "outputs": [
    {
     "data": {
      "text/plain": [
       "True"
      ]
     },
     "execution_count": 43,
     "metadata": {},
     "output_type": "execute_result"
    }
   ],
   "source": [
    "not False"
   ]
  }
 ],
 "metadata": {
  "kernelspec": {
   "display_name": "base",
   "language": "python",
   "name": "python3"
  },
  "language_info": {
   "codemirror_mode": {
    "name": "ipython",
    "version": 3
   },
   "file_extension": ".py",
   "mimetype": "text/x-python",
   "name": "python",
   "nbconvert_exporter": "python",
   "pygments_lexer": "ipython3",
   "version": "3.11.4"
  },
  "orig_nbformat": 4
 },
 "nbformat": 4,
 "nbformat_minor": 2
}
