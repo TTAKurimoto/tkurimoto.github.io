{
 "cells": [
  {
   "cell_type": "markdown",
   "metadata": {},
   "source": [
    "1. Dentre os exemplos abaixo, não pode ser considerado um algoritmo: \n",
    "- [ ] Guia de instalação do Ubuntu \n",
    "- [ ] Manual de instruções de uso de micro-ondas\n",
    "- [ ] Receita de sorvete \n",
    "- [x] Cardápio de restaurante \n",
    "\n"
   ]
  },
  {
   "cell_type": "markdown",
   "metadata": {},
   "source": [
    "2. A afirmação *“O algoritmo é uma sequência de passos lógicos e infinitos e não-ambíguos que permitem solucionar problemas”* é: \n",
    "- [ ] Verdadeira \n",
    "- [ ] Falsa \n"
   ]
  },
  {
   "cell_type": "markdown",
   "metadata": {},
   "source": [
    "3. A afirmação “Um programa de computador é um algoritmo escrito em um formato compreensível pelo computador” é: \n",
    "- [ ] Verdadeira \n",
    "- [ ] Falsa \n"
   ]
  },
  {
   "cell_type": "markdown",
   "metadata": {},
   "source": [
    "4. As formas de representação de algoritmo mais conhecidas são? \n",
    "- [ ] Fluxograma, Descrição narrativa, Pseudocódigo \n",
    "- [ ] Diagrama de classe, Fluxograma, Pseudocódigo \n",
    "- [ ] Pseudocódigo, Prototipagem, Fluxograma \n",
    "- [ ] Pseudocódigo, Fluxograma, Modelagem de dados \n",
    "- [ ] Descrição narrativa, prototipagem, fluxograma \n"
   ]
  },
  {
   "cell_type": "markdown",
   "metadata": {},
   "source": [
    "5. A afirmação *“É um consenso entre os programadores que a melhor forma de representação de um algoritmo é a descrição narrativa”* é: \n",
    "- [ ] Verdadeira \n",
    "- [ ] Falsa \n"
   ]
  },
  {
   "cell_type": "markdown",
   "metadata": {},
   "source": [
    "6. A afirmação *“O fluxograma utiliza símbolos específicos, que podem variar de acordo com a ferramenta, para representar graficamente os algoritmos”* é: \n",
    "- [ ] Verdadeira \n",
    "- [ ] Falsa \n"
   ]
  },
  {
   "cell_type": "markdown",
   "metadata": {},
   "source": [
    "### Faça um pseudocódigo para os exercicios a seguir:"
   ]
  },
  {
   "cell_type": "markdown",
   "metadata": {},
   "source": [
    "7. Alice pagou uma televisão de R$ 3250.00 em 12 vezes sem juros. Qual o valor de cada parcela?"
   ]
  },
  {
   "cell_type": "code",
   "execution_count": 1,
   "metadata": {},
   "outputs": [],
   "source": [
    "# coloque sua resposta aqui. Use os # para escrever em comentários."
   ]
  },
  {
   "cell_type": "markdown",
   "metadata": {},
   "source": [
    "8. Uma folha de papel sulfite tem 0.1mm de espessura. Dobrando a folha ao meio, a espessura passa a ser 0.2mm. Dobrando ao meio de novo, a espessura vai para 0.4mm. Mais uma vez e a espessura aumenta para 0.8mm, e assim vai. Sabemos que não é possível dobrar uma folha de papel sulfite ao meio mais do que 5 ou 6 vezes mas, supondo que fosse possível dobrá-la 27 vezes, qual seria a espessura da dobradura resultante?\n"
   ]
  },
  {
   "cell_type": "markdown",
   "metadata": {},
   "source": []
  }
 ],
 "metadata": {
  "kernelspec": {
   "display_name": "Python 3 (ipykernel)",
   "language": "python",
   "name": "python3"
  },
  "language_info": {
   "codemirror_mode": {
    "name": "ipython",
    "version": 3
   },
   "file_extension": ".py",
   "mimetype": "text/x-python",
   "name": "python",
   "nbconvert_exporter": "python",
   "pygments_lexer": "ipython3",
   "version": "3.11.4"
  }
 },
 "nbformat": 4,
 "nbformat_minor": 2
}
