{
 "cells": [
  {
   "cell_type": "markdown",
   "metadata": {},
   "source": [
    "### Faça um código para os exercicios a seguir:"
   ]
  },
  {
   "cell_type": "markdown",
   "metadata": {},
   "source": [
    "(1) Crie uma calculadora de parcelament onde o código deve receber o valor em reais e a quantidade de parcelas para realizar o calculo e enviar para o operador os valores que foram calculados. O valor deve ser mostrado com todas as informações passadas pelo operador e deve conter o valor da parcela arredondado com 2 casas decimais."
   ]
  },
  {
   "cell_type": "code",
   "execution_count": 3,
   "metadata": {},
   "outputs": [],
   "source": [
    "# coloque sua resposta aqui. Use os # para escrever em comentários.\n"
   ]
  },
  {
   "cell_type": "markdown",
   "metadata": {},
   "source": [
    "(2) Uma folha de papel sulfite tem 0.1mm de espessura. Dobrando a folha ao meio, a espessura passa a ser 0.2mm. Dobrando ao meio de novo, a espessura vai para 0.4mm. Mais uma vez e a espessura aumenta para 0.8mm, e assim vai. Sabemos que não é possível dobrar uma folha de papel sulfite ao meio mais do que 5 ou 6 vezes mas, supondo que fosse possível dobrá-la quantas vezes quisermos, faça um programa que calcule a espessura do papel baseado na quantidade de dobras que for passada pelo operador e questione a espessura do papel sulfite. Ao enviar para o operador, mostre a espessura do papel, a quantidade de dobras e a espessura após as dobras.\n"
   ]
  },
  {
   "cell_type": "code",
   "execution_count": 4,
   "metadata": {},
   "outputs": [],
   "source": [
    "# coloque sua resposta aqui. Use os # para escrever em comentários.\n"
   ]
  },
  {
   "cell_type": "markdown",
   "metadata": {},
   "source": [
    "\n",
    "(3) Faça uma calculadora de idade, onde pergunte ao operador qual a idade (anos) e converta em segundos e print o valor na tela. (Ignore os anos bissextos.)"
   ]
  },
  {
   "cell_type": "code",
   "execution_count": 7,
   "metadata": {},
   "outputs": [],
   "source": [
    "# coloque sua resposta aqui. Use os # para escrever em comentários.\n"
   ]
  },
  {
   "cell_type": "markdown",
   "metadata": {},
   "source": [
    "(4) Faça uma calculadora para o volume de água desperdiçado. Considere que cada gota possui um volume de 0.05 mililitros. Pergunte ao operador a quantidade de gotas por minuto e quanto tempo há de vazamento em horas, para realizar o calculo e apresente de forma explicativa os dados obtidos e calculados. A resposta deve ser em litros."
   ]
  },
  {
   "cell_type": "code",
   "execution_count": 8,
   "metadata": {},
   "outputs": [],
   "source": [
    "# coloque sua resposta aqui. Use os # para escrever em comentários.\n"
   ]
  },
  {
   "cell_type": "markdown",
   "metadata": {},
   "source": [
    "(5) Faça um conversor de mililitros (questione ao operador esse valor) para litros, sem a parte decimal (ou seja, descartando os valores das casas decimais)."
   ]
  },
  {
   "cell_type": "code",
   "execution_count": 9,
   "metadata": {},
   "outputs": [],
   "source": [
    "# coloque sua resposta aqui. Use os # para escrever em comentários.\n"
   ]
  },
  {
   "cell_type": "markdown",
   "metadata": {},
   "source": [
    "(6) Faça um conversor de dias e minutos (questione esses dois dados ao operador) para segundos."
   ]
  },
  {
   "cell_type": "code",
   "execution_count": 10,
   "metadata": {},
   "outputs": [],
   "source": [
    "# coloque sua resposta aqui. Use os # para escrever em comentários.\n"
   ]
  },
  {
   "cell_type": "markdown",
   "metadata": {},
   "source": [
    "(7) Faça uma calculadora onde o operador insira o valor de litros no tanque de gasolina e o consumo do carro em km/l para calcular e imprimir: \"Carro consegue viajar\" xxx \"kilometros com o nível atual do tanque.\""
   ]
  },
  {
   "cell_type": "code",
   "execution_count": 11,
   "metadata": {},
   "outputs": [],
   "source": [
    "# coloque sua resposta aqui. Use os # para escrever em comentários.\n"
   ]
  },
  {
   "cell_type": "markdown",
   "metadata": {},
   "source": [
    "(8) Faça um programa que calcule a média ponderada de um aluno onde deve receber os valores da Prova 1 (P1) e da Prova 2 (P2), considerando que o peso da P1 é $0.4$ e o peso da P2 é $0.6$.\n"
   ]
  },
  {
   "cell_type": "code",
   "execution_count": null,
   "metadata": {},
   "outputs": [],
   "source": [
    "# coloque sua resposta aqui. Use os # para escrever em comentários.\n"
   ]
  },
  {
   "cell_type": "markdown",
   "metadata": {},
   "source": [
    "(9) Faça um simulador de investimentos, onde questione qual quantia depositada e o tempo que valor ficará investido, supondo que \n",
    "\n",
    "quantia depositada $d$ = questionada ao operador;\n",
    "\n",
    "taxa de rendimento da poupança $p$ = 0.13;\n",
    "\n",
    "numero de meses que o dinheiro ficará rendendo $t$ = questionado ao operador.\n",
    "\n",
    "Imprima o montante de dinheiro na poupança após os $t$ meses.\n",
    "\n",
    "Lembre-se que a quantia $D$\n",
    "após $t$ meses pode ser calculada por\n",
    "$$D=d*(1+\\frac{p}{100})^t.$$\n"
   ]
  },
  {
   "cell_type": "code",
   "execution_count": null,
   "metadata": {},
   "outputs": [],
   "source": [
    "# coloque sua resposta aqui. Use os # para escrever em comentários.\n"
   ]
  },
  {
   "cell_type": "markdown",
   "metadata": {},
   "source": [
    "(10) Faça uma calculador que converta segundos em horas, minutos e segundos.\n",
    "\n",
    "Dica: use os operadores de divisão inteira `//` e resto `%`."
   ]
  },
  {
   "cell_type": "code",
   "execution_count": null,
   "metadata": {},
   "outputs": [],
   "source": [
    "# coloque sua resposta aqui. Use os # para escrever em comentários.\n",
    "\n",
    "\n"
   ]
  }
 ],
 "metadata": {
  "kernelspec": {
   "display_name": "Python 3 (ipykernel)",
   "language": "python",
   "name": "python3"
  },
  "language_info": {
   "codemirror_mode": {
    "name": "ipython",
    "version": 3
   },
   "file_extension": ".py",
   "mimetype": "text/x-python",
   "name": "python",
   "nbconvert_exporter": "python",
   "pygments_lexer": "ipython3",
   "version": "3.11.5"
  }
 },
 "nbformat": 4,
 "nbformat_minor": 2
}
