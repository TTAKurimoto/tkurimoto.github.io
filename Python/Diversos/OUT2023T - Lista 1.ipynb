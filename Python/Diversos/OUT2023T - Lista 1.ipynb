{
 "cells": [
  {
   "cell_type": "markdown",
   "metadata": {},
   "source": [
    "### LISTA PARA TESTAR O CONHECIMENTO DO TERCEIRO CAPITULO"
   ]
  },
  {
   "cell_type": "markdown",
   "metadata": {},
   "source": [
    "(1) Dentre os exemplos abaixo, não pode ser considerado um algoritmo: \n",
    "- [ ] Guia de instalação do Ubuntu \n",
    "- [ ] Manual de instruções de uso de micro-ondas\n",
    "- [ ] Receita de sorvete \n",
    "- [X] Cardápio de restaurante \n",
    "\n"
   ]
  },
  {
   "cell_type": "markdown",
   "metadata": {},
   "source": [
    "(2) A afirmação *“O algoritmo é uma sequência de passos lógicos e infinitos e não-ambíguos que permitem solucionar problemas”* é: \n",
    "- [ ] Verdadeira \n",
    "- [X] Falsa \n"
   ]
  },
  {
   "cell_type": "markdown",
   "metadata": {},
   "source": [
    "(3) A afirmação “Um programa de computador é um algoritmo escrito em um formato compreensível pelo computador” é: \n",
    "- [X] Verdadeira \n",
    "- [ ] Falsa \n"
   ]
  },
  {
   "cell_type": "markdown",
   "metadata": {},
   "source": [
    "(4) As formas de representação de algoritmo mais conhecidas são? \n",
    "- [X] Fluxograma, Descrição narrativa, Pseudocódigo \n",
    "- [ ] Diagrama de classe, Fluxograma, Pseudocódigo \n",
    "- [ ] Pseudocódigo, Prototipagem, Fluxograma \n",
    "- [ ] Pseudocódigo, Fluxograma, Modelagem de dados \n",
    "- [ ] Descrição narrativa, prototipagem, fluxograma \n"
   ]
  },
  {
   "cell_type": "markdown",
   "metadata": {},
   "source": [
    "(5) A afirmação *“É um consenso entre os programadores que a melhor forma de representação de um algoritmo é a descrição narrativa”* é: \n",
    "- [ ] Verdadeira \n",
    "- [X] Falsa \n"
   ]
  },
  {
   "cell_type": "markdown",
   "metadata": {},
   "source": [
    "(6) A afirmação *“O fluxograma utiliza símbolos específicos, que podem variar de acordo com a ferramenta, para representar graficamente os algoritmos”* é: \n",
    "- [X] Verdadeira \n",
    "- [ ] Falsa \n"
   ]
  },
  {
   "cell_type": "markdown",
   "metadata": {},
   "source": [
    "### LISTA PARA TESTAR O CONHECIMENTO DO TERCEIRO CAPITULO"
   ]
  },
  {
   "cell_type": "markdown",
   "metadata": {},
   "source": [
    "### Faça um pseudocódigo para os exercicios a seguir:"
   ]
  },
  {
   "cell_type": "markdown",
   "metadata": {},
   "source": [
    "(7) Alice pagou uma televisão de R$ 3250.00 em 12 vezes sem juros. Qual o valor de cada parcela?"
   ]
  },
  {
   "cell_type": "code",
   "execution_count": null,
   "metadata": {},
   "outputs": [],
   "source": [
    "# coloque sua resposta aqui. Use os # para escrever em comentários.\n",
    "# entre com o valor da item\n",
    "# entre com a quantidade de parcelas\n",
    "# calcular o resultado: valor do item / quantidade de parcelas\n",
    "# exibir resultado do calculo na tela"
   ]
  },
  {
   "cell_type": "markdown",
   "metadata": {},
   "source": [
    "(8) Uma folha de papel sulfite tem 0.1mm de espessura. Dobrando a folha ao meio, a espessura passa a ser 0.2mm. Dobrando ao meio de novo, a espessura vai para 0.4mm. Mais uma vez e a espessura aumenta para 0.8mm, e assim vai. Sabemos que não é possível dobrar uma folha de papel sulfite ao meio mais do que 5 ou 6 vezes mas, supondo que fosse possível dobrá-la 27 vezes, qual seria a espessura da dobradura resultante?\n"
   ]
  },
  {
   "cell_type": "code",
   "execution_count": null,
   "metadata": {},
   "outputs": [],
   "source": [
    "# coloque sua resposta aqui. Use os # para escrever em comentários.\n"
   ]
  },
  {
   "cell_type": "markdown",
   "metadata": {},
   "source": [
    "(9) Uma lanchonete vende sanduíches e tem um programa de fidelidade: cada cliente tem um cartão e a cada compra o cliente recebe um carimbo em seu cartão.\n",
    "\n",
    "Após acumular 5 carimbos, o cliente ganha uma porção de batata frita de brinde.\n",
    "\n",
    "Se o cliente tem $43$ carimbos, quantas porções de batata frita ele ganhou de brinde até agora?"
   ]
  },
  {
   "cell_type": "code",
   "execution_count": null,
   "metadata": {},
   "outputs": [],
   "source": [
    "# coloque sua resposta aqui. Use os # para escrever em comentários.\n"
   ]
  },
  {
   "cell_type": "markdown",
   "metadata": {},
   "source": [
    "(10) Uma barra de chocolate tem 32 quadradinhos. Uma mãe quer dividir essa barra de chocolate entre seus 5 filhos. Nenhum deles pode receber menos que cada um dos outros para não se sentir preterido.\n",
    "\n",
    "Qual é o número mínimo de quadradinhos que a mãe precisa esconder (comer) para poder dividir o restante equanimemente entre os 5?"
   ]
  },
  {
   "cell_type": "code",
   "execution_count": null,
   "metadata": {},
   "outputs": [],
   "source": [
    "# coloque sua resposta aqui. Use os # para escrever em comentários.\n"
   ]
  },
  {
   "cell_type": "markdown",
   "metadata": {},
   "source": [
    "(11) João faz 10 anos de idade hoje, neste exato momento! Na célula abaixo, calcule quantos segundos de vida ele acabou de comemorar.\n",
    "\n",
    "(Ignore os anos bissextos.)"
   ]
  },
  {
   "cell_type": "code",
   "execution_count": null,
   "metadata": {},
   "outputs": [],
   "source": [
    "# coloque sua resposta aqui. Use os # para escrever em comentários.\n"
   ]
  },
  {
   "cell_type": "markdown",
   "metadata": {},
   "source": [
    "(12) Uma torneira pinga a uma taxa de 1 gota por segundo. Cada gota possui um volume de 0.05 mililitros. Calcule o volume de água desperdiçado depois de exatos 3 dias de vazamento. Faça a conta de modo que a resposta seja em litros."
   ]
  },
  {
   "cell_type": "code",
   "execution_count": null,
   "metadata": {},
   "outputs": [],
   "source": [
    "# coloque sua resposta aqui. Use os # para escrever em comentários.\n"
   ]
  },
  {
   "cell_type": "markdown",
   "metadata": {},
   "source": [
    "(13) Transforme e imprima quanto é $267580$ mililitros em litros, sem a parte decimal (ou seja, descartando os valores das casas decimais)."
   ]
  },
  {
   "cell_type": "code",
   "execution_count": null,
   "metadata": {},
   "outputs": [],
   "source": [
    "# coloque sua resposta aqui. Use os # para escrever em comentários.\n"
   ]
  },
  {
   "cell_type": "markdown",
   "metadata": {},
   "source": [
    "(14) Quantos segundos tem em $2$ dias e $25$ minutos?"
   ]
  },
  {
   "cell_type": "code",
   "execution_count": null,
   "metadata": {},
   "outputs": [],
   "source": [
    "# coloque sua resposta aqui. Use os # para escrever em comentários.\n"
   ]
  },
  {
   "cell_type": "markdown",
   "metadata": {},
   "source": [
    "(15) Suponha que capacidade do tanque de gasolina de um  carro (em litros) é 55, e que o consumo de gasolina (em km/l) é 7.7. O seu programa deve imprimir: \"Carro consegue viajar\" xxx \"kilometros com o tanque cheio ate parar.\""
   ]
  },
  {
   "cell_type": "code",
   "execution_count": null,
   "metadata": {},
   "outputs": [],
   "source": [
    "# coloque sua resposta aqui. Use os # para escrever em comentários.\n"
   ]
  }
 ],
 "metadata": {
  "kernelspec": {
   "display_name": "Python 3 (ipykernel)",
   "language": "python",
   "name": "python3"
  },
  "language_info": {
   "codemirror_mode": {
    "name": "ipython",
    "version": 3
   },
   "file_extension": ".py",
   "mimetype": "text/x-python",
   "name": "python",
   "nbconvert_exporter": "python",
   "pygments_lexer": "ipython3",
   "version": "3.11.4"
  }
 },
 "nbformat": 4,
 "nbformat_minor": 2
}
