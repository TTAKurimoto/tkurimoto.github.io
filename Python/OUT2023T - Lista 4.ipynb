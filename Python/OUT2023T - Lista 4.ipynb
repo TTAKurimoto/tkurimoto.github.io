{
 "cells": [
  {
   "cell_type": "markdown",
   "metadata": {},
   "source": [
    "### Faça um código para os exercicios a seguir:"
   ]
  },
  {
   "cell_type": "markdown",
   "metadata": {},
   "source": [
    "(1) Imprima os números de 1 a 10. Use uma lista para armazenar os números."
   ]
  },
  {
   "cell_type": "code",
   "execution_count": 6,
   "metadata": {},
   "outputs": [
    {
     "name": "stdout",
     "output_type": "stream",
     "text": [
      "[1, 2, 3, 4, 5, 6, 7, 8, 9, 10]\n"
     ]
    },
    {
     "data": {
      "text/plain": [
       "[1, 2, 3, 4, 5, 6, 7, 8, 9, 10]"
      ]
     },
     "execution_count": 6,
     "metadata": {},
     "output_type": "execute_result"
    }
   ],
   "source": [
    "# coloque sua resposta aqui. Use os # para escrever em comentários.\n",
    "# criar uma lista e armazenar os numeros de 1 a 10 dentro dela\n",
    "lista_atv1 = [1, 2, 3, 4, 5, 6, 7, 8, 9, 10]\n",
    "# imprimir o conteudo da lista\n",
    "print(lista_atv1)\n",
    "lista_atv1"
   ]
  },
  {
   "cell_type": "markdown",
   "metadata": {},
   "source": [
    "(2) Crie uma lista de 5 objetos e imprima na tela\n"
   ]
  },
  {
   "cell_type": "code",
   "execution_count": 9,
   "metadata": {},
   "outputs": [
    {
     "name": "stdout",
     "output_type": "stream",
     "text": [
      "['Mouse', 'Teclado', 'Monitor', 'Fone de ouvido', 'Hub USB']\n"
     ]
    },
    {
     "data": {
      "text/plain": [
       "['Mouse', 'Teclado', 'Monitor', 'Fone de ouvido', 'Hub USB']"
      ]
     },
     "execution_count": 9,
     "metadata": {},
     "output_type": "execute_result"
    }
   ],
   "source": [
    "# coloque sua resposta aqui. Use os # para escrever em comentários.\n",
    "# criar uma lista_obj_atv2 = \"Mouse\", \"Teclado\", \"Monitor\", \"Fone de ouvido\", \"Hub USB\"\n",
    "lista_obj_atv2 = [\"Mouse\", \"Teclado\", \"Monitor\", \"Fone de ouvido\", \"Hub USB\"]\n",
    "#imprimir o conteudo da lista\n",
    "print(lista_obj_atv2)\n",
    "lista_obj_atv2"
   ]
  },
  {
   "cell_type": "markdown",
   "metadata": {},
   "source": [
    "\n",
    "(3) Crie uma tupla com os seguintes elementos: 1, 2, 2, 3, 4, 4, 4, 5 e depois utilize a função count do objeto tupla para verificar quantas vezes o número 4 aparece na tupla\n"
   ]
  },
  {
   "cell_type": "code",
   "execution_count": 12,
   "metadata": {},
   "outputs": [
    {
     "data": {
      "text/plain": [
       "3"
      ]
     },
     "execution_count": 12,
     "metadata": {},
     "output_type": "execute_result"
    }
   ],
   "source": [
    "# coloque sua resposta aqui. Use os # para escrever em comentários.\n",
    "# criar uma tupla_atv2 = 1,2,2,3,4,4,4,5\n",
    "tupla_atv3 = (1,2,2,3,4,4,4,5)\n",
    "# verificar a ocorrencia do numero 4 na tupla_atv3.count(4)\n",
    "tupla_atv3.count(4)"
   ]
  },
  {
   "cell_type": "markdown",
   "metadata": {},
   "source": [
    "(4) Crie duas strings e concatene as duas em uma terceira string\n",
    "\n",
    "string1 = 'Se beber '\n",
    "\n",
    "string2 = 'não dirija!'"
   ]
  },
  {
   "cell_type": "code",
   "execution_count": 16,
   "metadata": {},
   "outputs": [
    {
     "name": "stdout",
     "output_type": "stream",
     "text": [
      "Se beber não dirija!\n"
     ]
    },
    {
     "data": {
      "text/plain": [
       "'Se beber não dirija!'"
      ]
     },
     "execution_count": 16,
     "metadata": {},
     "output_type": "execute_result"
    }
   ],
   "source": [
    "# coloque sua resposta aqui. Use os # para escrever em comentários.\n",
    "# entre com o valor da string1 = 'Se beber '\n",
    "string1 = 'Se beber '\n",
    "# entre com o valor da string2 = 'não dirija!'\n",
    "string2 = 'não dirija!'\n",
    "# concatenar string3 = string1 + string2\n",
    "string3 = string1 + string2\n",
    "# imprimir o resultado em tela\n",
    "print(string3)\n",
    "string3"
   ]
  },
  {
   "cell_type": "markdown",
   "metadata": {},
   "source": [
    "(5) Crie um dicionário vazio e imprima na tela"
   ]
  },
  {
   "cell_type": "code",
   "execution_count": 19,
   "metadata": {},
   "outputs": [
    {
     "name": "stdout",
     "output_type": "stream",
     "text": [
      "{}\n"
     ]
    },
    {
     "data": {
      "text/plain": [
       "{}"
      ]
     },
     "execution_count": 19,
     "metadata": {},
     "output_type": "execute_result"
    }
   ],
   "source": [
    "# coloque sua resposta aqui. Use os # para escrever em comentários.\n",
    "# criar vazio_dict = {}\n",
    "vazio_dict = {}\n",
    "# imprimir o resultado em tela\n",
    "print(vazio_dict)\n",
    "vazio_dict"
   ]
  },
  {
   "cell_type": "markdown",
   "metadata": {},
   "source": [
    "(6) Crie um dicionário com 3 chaves e 3 valores e imprima na tela\n",
    "\n",
    "dict = {'k1':'martelo', 'k2':'serrote', 'k3':'machado'}"
   ]
  },
  {
   "cell_type": "code",
   "execution_count": 25,
   "metadata": {},
   "outputs": [
    {
     "name": "stdout",
     "output_type": "stream",
     "text": [
      "{'k1': 'martelo', 'k2': 'serrote', 'k3': 'machado'}\n"
     ]
    },
    {
     "data": {
      "text/plain": [
       "{'k1': 'martelo', 'k2': 'serrote', 'k3': 'machado'}"
      ]
     },
     "execution_count": 25,
     "metadata": {},
     "output_type": "execute_result"
    }
   ],
   "source": [
    "# coloque sua resposta aqui. Use os # para escrever em comentários.\n",
    "dict_atv6 = {'k1':'martelo', 'k2':'serrote', 'k3':'machado'}\n",
    "print(dict_atv6)\n",
    "dict_atv6"
   ]
  },
  {
   "cell_type": "markdown",
   "metadata": {},
   "source": [
    "(7) Adicione mais um elemento ao dicionário criado no exercício anterior com o valor \"parafuso\" e imprima na tela\n"
   ]
  },
  {
   "cell_type": "code",
   "execution_count": 26,
   "metadata": {},
   "outputs": [
    {
     "name": "stdout",
     "output_type": "stream",
     "text": [
      "{'k1': 'martelo', 'k2': 'serrote', 'k3': 'machado', 'k4': 'parafuso'}\n"
     ]
    },
    {
     "data": {
      "text/plain": [
       "{'k1': 'martelo', 'k2': 'serrote', 'k3': 'machado', 'k4': 'parafuso'}"
      ]
     },
     "execution_count": 26,
     "metadata": {},
     "output_type": "execute_result"
    }
   ],
   "source": [
    "# coloque sua resposta aqui. Use os # para escrever em comentários.\n",
    "dict_atv7 = {'k1':'martelo', 'k2':'serrote', 'k3':'machado'}\n",
    "atv7 = {'k4':'parafuso'}\n",
    "atv7\n",
    "dict_atv7.update(atv7)\n",
    "print(dict_atv7)\n",
    "dict_atv7"
   ]
  },
  {
   "cell_type": "markdown",
   "metadata": {},
   "source": [
    "(8) Crie um dicionário com 3 chaves e 3 valores. \n",
    "\n",
    "Um dos valores deve ser uma lista de 2 elementos numéricos. \n",
    "\n",
    "Imprima o dicionário.\n"
   ]
  },
  {
   "cell_type": "code",
   "execution_count": 29,
   "metadata": {},
   "outputs": [
    {
     "data": {
      "text/plain": [
       "{'k1': 'martelo', 'k2': 'serrote', 'k3': [25, 10]}"
      ]
     },
     "execution_count": 29,
     "metadata": {},
     "output_type": "execute_result"
    }
   ],
   "source": [
    "# coloque sua resposta aqui. Use os # para escrever em comentários.\n",
    "dict_atv8 = {\n",
    "    'k1':'martelo',\n",
    "    'k2':'serrote',\n",
    "    'k3':[25,10]\n",
    "    }\n",
    "print(dict_atv8)\n",
    "dict_atv8"
   ]
  },
  {
   "cell_type": "markdown",
   "metadata": {},
   "source": [
    "(9) Crie uma lista de 4 elementos. \n",
    "- O primeiro elemento deve ser uma string, \n",
    "- O segundo uma tupla de 2 elementos\n",
    "- O terceiro um dicionário com 2 chaves e 2 valores\n",
    "- O quarto elemento um valor do tipo float.\n",
    "\n",
    "Imprima a lista na tela.\n"
   ]
  },
  {
   "cell_type": "code",
   "execution_count": 32,
   "metadata": {},
   "outputs": [
    {
     "name": "stdout",
     "output_type": "stream",
     "text": [
      "['String Atv9', ('Tupla Atv9', 2), {'atv9_1': 25, 'atv9_2': 10}, 4.5]\n"
     ]
    }
   ],
   "source": [
    "# coloque sua resposta aqui. Use os # para escrever em comentários.\n",
    "string_4elementos_atv9 = \"String Atv9\"\n",
    "tupla_4elementos_atv9 = ('Tupla Atv9',2)\n",
    "dict_4elementos_atv9 = {'atv9_1':25,'atv9_2':10}\n",
    "float_4elementos_atv9 = 4.5\n",
    "lista_4elementos_atv9 = [string_4elementos_atv9,tupla_4elementos_atv9,dict_4elementos_atv9,float_4elementos_atv9]\n",
    "print(lista_4elementos_atv9)"
   ]
  },
  {
   "cell_type": "code",
   "execution_count": 5,
   "metadata": {},
   "outputs": [
    {
     "name": "stdout",
     "output_type": "stream",
     "text": [
      "['String Atv9_V2', ('Tupla Atv9_V2', 10), {'nome': 'Dicionario Atv9_V2', 'idade': 41}, 3.14]\n"
     ]
    }
   ],
   "source": [
    "listaVazia=[]\n",
    "listaVazia.append('String Atv9_V2')\n",
    "listaVazia.append(('Tupla Atv9_V2',10))\n",
    "dict_Atv9 = {'nome':\"Dicionario Atv9_V2\",'idade':41}\n",
    "listaVazia.append(dict_Atv9)\n",
    "listaVazia.append(3.14)\n",
    "\n",
    "print(listaVazia)"
   ]
  },
  {
   "cell_type": "code",
   "execution_count": 6,
   "metadata": {},
   "outputs": [
    {
     "name": "stdout",
     "output_type": "stream",
     "text": [
      "['Olá, mundo!', (10, 20), {'nome': 'Bard', 'idade': 10}, 3.14]\n"
     ]
    }
   ],
   "source": [
    "lista = [\"Olá, mundo!\", (10, 20), {\"nome\": \"Bard\", \"idade\": 10}, 3.14]\n",
    "\n",
    "print(lista)"
   ]
  },
  {
   "cell_type": "markdown",
   "metadata": {},
   "source": [
    "(10) Considere a string abaixo. Extrai a palavra 'PYTHON' e imprima na tela em letras maiúsculas.\n",
    "\n",
    "frase = 'Aprender Python é mais fácil do que parece.'\n",
    "\n"
   ]
  },
  {
   "cell_type": "code",
   "execution_count": 15,
   "metadata": {},
   "outputs": [
    {
     "name": "stdout",
     "output_type": "stream",
     "text": [
      "PYTHON\n"
     ]
    }
   ],
   "source": [
    "# coloque sua resposta aqui. Use os # para escrever em comentários.\n",
    "frase = 'Aprender Python é mais fácil do que parece.'\n",
    "frase\n",
    "posicao = frase.find('Python')\n",
    "palavra = frase[posicao:posicao + 6]\n",
    "palavra = palavra.upper()\n",
    "print(palavra)\n"
   ]
  },
  {
   "cell_type": "code",
   "execution_count": 16,
   "metadata": {},
   "outputs": [
    {
     "name": "stdout",
     "output_type": "stream",
     "text": [
      "THON \n"
     ]
    }
   ],
   "source": [
    "# Extrai a palavra 'PYTHON' da string\n",
    "palavra = frase[11:16]\n",
    "\n",
    "# Converte a palavra para maiúsculas\n",
    "palavra = palavra.upper()\n",
    "\n",
    "# Imprime a palavra\n",
    "print(palavra)"
   ]
  }
 ],
 "metadata": {
  "kernelspec": {
   "display_name": "Python 3 (ipykernel)",
   "language": "python",
   "name": "python3"
  },
  "language_info": {
   "codemirror_mode": {
    "name": "ipython",
    "version": 3
   },
   "file_extension": ".py",
   "mimetype": "text/x-python",
   "name": "python",
   "nbconvert_exporter": "python",
   "pygments_lexer": "ipython3",
   "version": "3.11.4"
  }
 },
 "nbformat": 4,
 "nbformat_minor": 2
}
