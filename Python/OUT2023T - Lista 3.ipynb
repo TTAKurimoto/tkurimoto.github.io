{
 "cells": [
  {
   "cell_type": "markdown",
   "metadata": {},
   "source": [
    "### Faça um código para os exercicios a seguir:"
   ]
  },
  {
   "cell_type": "markdown",
   "metadata": {},
   "source": [
    "(1) Alice pagou uma televisão de R$ 3250.00 em 12 vezes sem juros. Qual o valor de cada parcela?"
   ]
  },
  {
   "cell_type": "code",
   "execution_count": 18,
   "metadata": {},
   "outputs": [
    {
     "name": "stdout",
     "output_type": "stream",
     "text": [
      "O valor de cada parcela é de R$ 270.83.\n"
     ]
    }
   ],
   "source": [
    "# coloque sua resposta aqui. Use os # para escrever em comentários.\n",
    "# solicitar ao operador qual o valor total? 3250\n",
    "valorTotal_Q1 = float(input(\"Qual o valor total da compra?\"))\n",
    "# solicitar ao operador qual a quantidade de parcelas? 12\n",
    "quantidadeParcelas_Q1 = int(input(\"Qual a quantidade de parcelas?\"))\n",
    "# calcular o valor de cada parcela divindo o valor total pela quantidade de parcelas? 270,833\n",
    "valorParcela_Q1 = valorTotal_Q1 / quantidadeParcelas_Q1\n",
    "# imprimir ao operador o valo de cada parcela.\n",
    "print(f\"O valor de cada parcela é de R$ {round(valorParcela_Q1, 2)}.\")"
   ]
  },
  {
   "cell_type": "markdown",
   "metadata": {},
   "source": [
    "(2) Uma folha de papel sulfite tem 0.1mm de espessura. Dobrando a folha ao meio, a espessura passa a ser 0.2mm. Dobrando ao meio de novo, a espessura vai para 0.4mm. Mais uma vez e a espessura aumenta para 0.8mm, e assim vai. Sabemos que não é possível dobrar uma folha de papel sulfite ao meio mais do que 5 ou 6 vezes mas, supondo que fosse possível dobrá-la 27 vezes, qual seria a espessura da dobradura resultante?\n"
   ]
  },
  {
   "cell_type": "code",
   "execution_count": 1,
   "metadata": {},
   "outputs": [
    {
     "name": "stdout",
     "output_type": "stream",
     "text": [
      "A espessura teorica final com 60 dobras é de 34587645138205408.00 milimetros\n"
     ]
    }
   ],
   "source": [
    "# coloque sua resposta aqui. Use os # para escrever em comentários.\n",
    "# solicitar ao operador qual a espessura inicial do papel? 0,1\n",
    "espessuraInicial_Q2 = float(input(\"Qual a espessura inicial em milimetros? Obs.:- utilize . 'ponto' como separador de decimal\"))\n",
    "# solicitar ao operador qual a quantidade de dobras? 27\n",
    "quantidadeDobras_Q2 = float(input(\"Qual a quantidade de dobras?\"))\n",
    "# calcular o valor da espessura : espessura_inicial * (2 ** quantidade_de_dobras )\n",
    "valorEspessura_Q2 = espessuraInicial_Q2 * (2 ** quantidadeDobras_Q2)\n",
    "# imprimir ao operador o valor da espessura.\n",
    "print(f\"A espessura teorica final com {quantidadeDobras_Q2} dobras é de %.2f milimetros\" % valorEspessura_Q2)"
   ]
  },
  {
   "cell_type": "markdown",
   "metadata": {},
   "source": [
    "(3) Uma lanchonete vende sanduíches e tem um programa de fidelidade: cada cliente tem um cartão e a cada compra o cliente recebe um carimbo em seu cartão.\n",
    "\n",
    "Após acumular 5 carimbos, o cliente ganha uma porção de batata frita de brinde.\n",
    "\n",
    "Se o cliente tem $43$ carimbos, quantas porções de batata frita ele ganhou de brinde até agora?"
   ]
  },
  {
   "cell_type": "code",
   "execution_count": 10,
   "metadata": {},
   "outputs": [
    {
     "name": "stdout",
     "output_type": "stream",
     "text": [
      "O brinde é de 8 porções de batata frita.\n"
     ]
    }
   ],
   "source": [
    "# coloque sua resposta aqui. Use os # para escrever em comentários.\n",
    "# solicitar ao operador qual a quantidade de carimbos? 43\n",
    "quantidadeCarimbos_Q3 = int(input(\"Quantidade de carimbos recebidos:\"))\n",
    "# solicitar ao operador qual a quantidade de carimbos para brinde? 5\n",
    "carimbosBrinde_Q3 = int(input(\"Quantidade de carimbos necessarios para o brinde:\"))\n",
    "# calcular a quantidade de porções ganhadas = 43 // 5 = 8\n",
    "quantidadePorcoesGanhas_Q3 = quantidadeCarimbos_Q3 // carimbosBrinde_Q3\n",
    "# imprimir ao operador a quantidade de porções ganhadas.\n",
    "print(f\"O brinde é de {quantidadePorcoesGanhas_Q3} porção(ões) de batata frita.\")"
   ]
  },
  {
   "cell_type": "markdown",
   "metadata": {},
   "source": [
    "(4) Uma barra de chocolate tem 32 quadradinhos. Uma mãe quer dividir essa barra de chocolate entre seus 5 filhos. Nenhum deles pode receber menos que cada um dos outros para não se sentir preterido.\n",
    "\n",
    "Qual é o número mínimo de quadradinhos que a mãe precisa esconder (comer) para poder dividir o restante equanimemente entre os 5?"
   ]
  },
  {
   "cell_type": "code",
   "execution_count": 3,
   "metadata": {},
   "outputs": [
    {
     "name": "stdout",
     "output_type": "stream",
     "text": [
      "A mãe terá de esconder 2 quadradinhos de chocolate.\n"
     ]
    }
   ],
   "source": [
    "# coloque sua resposta aqui. Use os # para escrever em comentários.\n",
    "# solicitar ao operador qual a quantidade de quadradinhos? 32\n",
    "qtdQuadradinhos_Q4 = float(input(\"Quantos quadradinhos tem a barra de chocolate?\"))\n",
    "# solicitar ao operador qual a quantidade de filhos? 5\n",
    "qtdFilhos_Q4 = float(input(\"Dividir para quantas pessoas?\"))\n",
    "# calcular a quantidade de quadradinhos para esconder = 32 % 5 = 2\n",
    "quadradinhosEsconder_Q4 = qtdQuadradinhos_Q4 % qtdFilhos_Q4\n",
    "# imprimir ao operador a quantidade de quadradinhos que a mãe precisa esconder.\n",
    "print(\"A mãe terá de esconder %i quadradinhos de chocolate.\" % quadradinhosEsconder_Q4)"
   ]
  },
  {
   "cell_type": "markdown",
   "metadata": {},
   "source": [
    "(5) João faz 10 anos de idade hoje, neste exato momento! Na célula abaixo, calcule quantos segundos de vida ele acabou de comemorar.\n",
    "\n",
    "(Ignore os anos bissextos.)"
   ]
  },
  {
   "cell_type": "code",
   "execution_count": 12,
   "metadata": {},
   "outputs": [
    {
     "name": "stdout",
     "output_type": "stream",
     "text": [
      "A idade de João em segundos é 315360000 segundos\n"
     ]
    }
   ],
   "source": [
    "# coloque sua resposta aqui. Use os # para escrever em comentários.\n",
    "# solicitar ao operador qual a quantidade de anos? 10\n",
    "idade_Q5 = int(input(\"Qual a idade a ser convertida?\"))\n",
    "# calcular a quantidade de anos em segundos =\n",
    "# quantidade em anos * 365 dias * 24 horas * 60 minutos * 60 segundos\n",
    "idadeSegundos_Q5 = idade_Q5 * 365 * 24 * 60 * 60\n",
    "# imprimir ao operador a quantidade de anos em segundos.\n",
    "print(f\"A idade de João em segundos é {idadeSegundos_Q5}.\")"
   ]
  },
  {
   "cell_type": "markdown",
   "metadata": {},
   "source": [
    "(6) Uma torneira pinga a uma taxa de 1 gota por segundo. Cada gota possui um volume de 0.05 mililitros. Calcule o volume de água desperdiçado depois de exatos 3 dias de vazamento. Faça a conta de modo que a resposta seja em litros."
   ]
  },
  {
   "cell_type": "code",
   "execution_count": 4,
   "metadata": {},
   "outputs": [
    {
     "name": "stdout",
     "output_type": "stream",
     "text": [
      "O volume de água desperdiçado em 10 dia(s) é de 25.92 lts.\n"
     ]
    }
   ],
   "source": [
    "# coloque sua resposta aqui. Use os # para escrever em comentários.\n",
    "\n",
    "# solicitar ao operador qual a quantidade de gostas por segundo? 1\n",
    "gotasPorSegundo_Q6 = int(input(\"Quantidade de gotas por segundo?\"))\n",
    "# solicitar a quantidade de dias? 3\n",
    "qtdDias_Q6 = int(input(\"Quantidade de dias vazando?\"))\n",
    "# solicitar o volume em mililitros da gota ? 0,05\n",
    "volumeGota_Q6 = float(input(\"Qual o volume da gota em mililitros?\"))\n",
    "# calcular a quantidade de dias em segundos = dias(3) * 24horas * 60min * 60s = 259200 seg\n",
    "diasSegundos_Q6 = qtdDias_Q6 * 24 * 60 * 60\n",
    "# calcular o volume em mililitros = \n",
    "#    quantidade de dias em segundo(259200) * volume em mililitros(0.05) = 12960 ml\n",
    "volumeMililitros_Q6 = diasSegundos_Q6 * volumeGota_Q6\n",
    "# calcular o volume em litros = volume em mililitros / 1000 = 12,96l\n",
    "volumeLitros_Q6 = volumeMililitros_Q6 / 1000\n",
    "# imprimir ao operadoro volume em litros.\n",
    "print(f\"O volume de água desperdiçado em {qtdDias_Q6} dia(s) é de {volumeLitros_Q6} lts.\")"
   ]
  },
  {
   "cell_type": "markdown",
   "metadata": {},
   "source": [
    "(7) Transforme e imprima quanto é $267580$ mililitros em litros, sem a parte decimal (ou seja, descartando os valores das casas decimais)."
   ]
  },
  {
   "cell_type": "code",
   "execution_count": 15,
   "metadata": {},
   "outputs": [
    {
     "name": "stdout",
     "output_type": "stream",
     "text": [
      "267580 ml equivale a 267 lts.\n"
     ]
    }
   ],
   "source": [
    "# coloque sua resposta aqui. Use os # para escrever em comentários.\n",
    "# solicitar o volume em mililitros? 267580\n",
    "volumeMl_Q7 = float(input(\"Qual o volume em mililitros para conversão em litros?\"))\n",
    "# calcular o volume em litros = 267580 // 1000 = 267\n",
    "volumeLts_Q7 = volumeMl_Q7 // 1000\n",
    "# imprimir o volume em litros\n",
    "print(f\"{volumeMl_Q7} ml equivale a {volumeLts_Q7} lts.\")"
   ]
  },
  {
   "cell_type": "markdown",
   "metadata": {},
   "source": [
    "(8) Quantos segundos tem em $2$ dias e $25$ minutos?"
   ]
  },
  {
   "cell_type": "code",
   "execution_count": 5,
   "metadata": {},
   "outputs": [
    {
     "name": "stdout",
     "output_type": "stream",
     "text": [
      "60.0 dia(s) e 40.0 minuto(s) equivale a 5186400.0 segundos.\n"
     ]
    }
   ],
   "source": [
    "# coloque sua resposta aqui. Use os # para escrever em comentários.\n",
    "# solicitar a quantidade de dias? 2\n",
    "qtdDias_Q8 = float(input(\"Quantos dias?\"))\n",
    "# solicitar a quantidade de minutos? 25\n",
    "qtdMinutos_Q8 = float(input(\"Quantos minutos?\"))\n",
    "# calcular os dias em minutos = dias(2) * 24 horas * 60 min \n",
    "diasMinutos_Q8 = qtdDias_Q8 * 24 * 60\n",
    "# calcular o total em minutos = dias em minutos + minutos\n",
    "totalMinutos_Q8 = diasMinutos_Q8 + qtdMinutos_Q8\n",
    "# calcular o total em segundos = minutos total * 60 segundos\n",
    "totalSegundos_Q8 = totalMinutos_Q8 * 60\n",
    "# imprimir o total em segundos \n",
    "print(f\"{qtdDias_Q8} dia(s) e {qtdMinutos_Q8} minuto(s) equivale(m) a {totalSegundos_Q8} segundos.\")"
   ]
  },
  {
   "cell_type": "markdown",
   "metadata": {},
   "source": [
    "(9) Suponha que capacidade do tanque de gasolina de um  carro (em litros) é 55, e que o consumo de gasolina (em km/l) é 7.7. O seu programa deve imprimir: \"Carro consegue viajar\" xxx \"kilometros com o tanque cheio ate parar.\""
   ]
  },
  {
   "cell_type": "code",
   "execution_count": 6,
   "metadata": {},
   "outputs": [
    {
     "name": "stdout",
     "output_type": "stream",
     "text": [
      "A autonomia do veiculo é de 650.0 quilometros\n"
     ]
    }
   ],
   "source": [
    "# coloque sua resposta aqui. Use os # para escrever em comentários.\n",
    "# solicitar capacidade do tanque em litros? 55\n",
    "tanqueLitros_Q9 = float(input(\"Qual a capacidade do tanque em litros?\"))\n",
    "# solicitar o consumo do veiculo em km/l ? 7,7\n",
    "consumoVeiculoKmL_Q9 = float(input(\"Qual o consumo do veiculo em km/l?)\"))\n",
    "# calcular a autonomia do veiculo em km = capacidade do tanque * consumo do veiculo = 423,5\n",
    "autonomiaVeiculoKm_Q9 = tanqueLitros_Q9 * consumoVeiculoKmL_Q9\n",
    "# imprimir a autonomia do veiculo em km\n",
    "print(\"A autonomia do veiculo é de\", autonomiaVeiculoKm_Q9,\"quilometros\")"
   ]
  },
  {
   "cell_type": "markdown",
   "metadata": {},
   "source": [
    "(10) Faça um programa que mostra na tela a média ponderada de um aluno que \n",
    "tirou $87$ pontos na Prova 1 (P1) e $78$ pontos na Prova 2 (P2), considerando que o peso da P1 é $2.5$ e o peso da P2 é $4.0$ (portanto a soma dos pesos é $6.5$).\n"
   ]
  },
  {
   "cell_type": "code",
   "execution_count": 7,
   "metadata": {},
   "outputs": [
    {
     "name": "stdout",
     "output_type": "stream",
     "text": [
      "A média ponderada é de 81.0 Pontos\n",
      "81.0\n"
     ]
    }
   ],
   "source": [
    "# coloque sua resposta aqui. Use os # para escrever em comentários.\n",
    "# nota da prova 1? 87\n",
    "prova1 = float(input(\"Entre com a Nota Prova 1:\"))\n",
    "# nota da prova 2? 78\n",
    "prova2 = float(input(\"Entre com a Nota Prova 2:\"))\n",
    "# peso_prova1 = 2.5\n",
    "pesoProva1 = float(input(\"Entre com o Peso da Prova 1:\"))\n",
    "# peso_prova2 = 4.0\n",
    "pesoProva2 = float(input(\"Entre com o Peso da Prova 2:\"))\n",
    "# soma_PesoProvas = prova 1 + prova 2 6.5\n",
    "pesoProvas_Q10 = pesoProva1 + pesoProva2\n",
    "# calcular a mediaPonderada = ((prova1 * peso_prova1) + (prova2 * peso_prova2)) // soma_PesoProvas\n",
    "mediaPonderada_Q10 = ((prova1 * pesoProva1) + (prova2 * pesoProva2)) // pesoProvas_Q10\n",
    "# imprimir a mediaPonderada\n",
    "print(\"A média ponderada é de\",mediaPonderada_Q10,\"Pontos\")\n",
    "print(round(mediaPonderada_Q10,2))"
   ]
  },
  {
   "cell_type": "markdown",
   "metadata": {},
   "source": [
    "(11) Um investidor depositou uma quantia na poupança, que rende $p$ porcento ao mês. Ajude o investidor a calcular quanto ele terá depois de 11 meses, supondo que \n",
    "\n",
    "quantia depositada $d$ = 200 R$;\n",
    "\n",
    "taxa de rendimento da poupança $p$ = 0.13; 13% ou 13/100\n",
    "\n",
    "numero de meses que o dinheiro ficará rendendo $t$ = 11.\n",
    "\n",
    "Imprima o montante de dinheiro na poupança após os $t$ meses.\n",
    "\n",
    "Lembre-se que a quantia $D$\n",
    "após $t$ meses pode ser calculada por\n",
    "$$D=d*(1+\\frac{p}{100})^t.$$\n"
   ]
  },
  {
   "cell_type": "code",
   "execution_count": 2,
   "metadata": {},
   "outputs": [
    {
     "name": "stdout",
     "output_type": "stream",
     "text": [
      "O montante na poupança é de R$ 202.88 reais.\n"
     ]
    }
   ],
   "source": [
    "# coloque sua resposta aqui. Use os # para escrever em comentários.\n",
    "#quantia depositada = 200.00\n",
    "d = float(input(\"Qual o valor de deposito inicial?\"))                     \n",
    "#taxa de rendimento da poupança normalmente vem a taxa em percentagem, então utiliza o /100 para transformar os 13% em decimal\n",
    "p = float(input(\"Qual a taxa de rendimento em %?\")) \n",
    "#meses de rendimento = 11\n",
    "t = float(input(\"Quantos meses de rendimento?\")) \n",
    "#montante de dinheiro na poupança\n",
    "D = d * ((1 + p / 100))**t)\n",
    "print(\"O montante na poupança é de R$\",round(D, 2),\"reais.\")"
   ]
  },
  {
   "cell_type": "code",
   "execution_count": 5,
   "metadata": {},
   "outputs": [
    {
     "name": "stdout",
     "output_type": "stream",
     "text": [
      "O montante na poupança é de R$ 767.17 reais.\n"
     ]
    }
   ],
   "source": [
    "# coloque sua resposta aqui. Use os # para escrever em comentários.\n",
    "#quantia depositada = 200.00\n",
    "d = float(input(\"Qual o valor de deposito inicial?\"))                     \n",
    "#taxa de rendimento da poupança normalmente vem a taxa em percentagem, então utiliza o /100 para transformar os 13% em decimal\n",
    "p = float(input(\"Qual a taxa de rendimento?\")) \n",
    "#meses de rendimento = 11\n",
    "t = float(input(\"Quantos meses de rendimento?\")) \n",
    "#montante de dinheiro na poupança\n",
    "D = d * ((1 + p))**t)\n",
    "print(\"O montante na poupança é de R$\",round(D, 2),\"reais.\")"
   ]
  },
  {
   "cell_type": "markdown",
   "metadata": {},
   "source": [
    "(12) O cliente de uma empresa gostaria de um programa que convertesse $10000$\n",
    "segundos em horas, minutos e segundos.\n",
    "\n",
    "Dica: use os operadores de divisão inteira `//` e resto `%`."
   ]
  },
  {
   "cell_type": "code",
   "execution_count": 8,
   "metadata": {},
   "outputs": [
    {
     "name": "stdout",
     "output_type": "stream",
     "text": [
      "166 horas 40 minutos e 0 segundos\n"
     ]
    }
   ],
   "source": [
    "# coloque sua resposta aqui. Use os # para escrever em comentários.\n",
    "# solicitar o valor em segundos 10000\n",
    "segundosConverter = int(input(\"Segundos para conversão.\"))\n",
    "# converter os segundos em horas\n",
    "horas = segundosConverter // 3600\n",
    "# converter os segundos em minutos\n",
    "minutos = (segundosConverter % 3600) // 60\n",
    "# converter os minutos em segundos\n",
    "segundos = segundosConverter % 60\n",
    "# imprimir o valor convertido\n",
    "print(horas,\"horas\", minutos,\"minutos e\", segundos,\"segundos\")"
   ]
  }
 ],
 "metadata": {
  "kernelspec": {
   "display_name": "Python 3 (ipykernel)",
   "language": "python",
   "name": "python3"
  },
  "language_info": {
   "codemirror_mode": {
    "name": "ipython",
    "version": 3
   },
   "file_extension": ".py",
   "mimetype": "text/x-python",
   "name": "python",
   "nbconvert_exporter": "python",
   "pygments_lexer": "ipython3",
   "version": "3.11.4"
  }
 },
 "nbformat": 4,
 "nbformat_minor": 2
}
