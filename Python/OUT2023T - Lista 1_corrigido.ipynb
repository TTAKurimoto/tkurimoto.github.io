{
 "cells": [
  {
   "cell_type": "markdown",
   "metadata": {},
   "source": [
    "### LISTA PARA TESTAR O CONHECIMENTO DO TERCEIRO CAPITULO"
   ]
  },
  {
   "cell_type": "markdown",
   "metadata": {},
   "source": [
    "(1) Dentre os exemplos abaixo, não pode ser considerado um algoritmo: \n",
    "- [ ] Guia de instalação do Ubuntu \n",
    "- [ ] Manual de instruções de uso de micro-ondas\n",
    "- [ ] Receita de sorvete \n",
    "- [X] Cardápio de restaurante \n",
    "\n"
   ]
  },
  {
   "cell_type": "markdown",
   "metadata": {},
   "source": [
    "(2) A afirmação *“O algoritmo é uma sequência de passos lógicos e infinitos e não-ambíguos que permitem solucionar problemas”* é: \n",
    "- [ ] Verdadeira \n",
    "- [X] Falsa \n"
   ]
  },
  {
   "cell_type": "markdown",
   "metadata": {},
   "source": [
    "(3) A afirmação “Um programa de computador é um algoritmo escrito em um formato compreensível pelo computador” é: \n",
    "- [X] Verdadeira \n",
    "- [ ] Falsa \n"
   ]
  },
  {
   "cell_type": "markdown",
   "metadata": {},
   "source": [
    "(4) As formas de representação de algoritmo mais conhecidas são? \n",
    "- [X] Fluxograma, Descrição narrativa, Pseudocódigo \n",
    "- [ ] Diagrama de classe, Fluxograma, Pseudocódigo \n",
    "- [ ] Pseudocódigo, Prototipagem, Fluxograma \n",
    "- [ ] Pseudocódigo, Fluxograma, Modelagem de dados \n",
    "- [ ] Descrição narrativa, prototipagem, fluxograma \n"
   ]
  },
  {
   "cell_type": "markdown",
   "metadata": {},
   "source": [
    "(5) A afirmação *“É um consenso entre os programadores que a melhor forma de representação de um algoritmo é a descrição narrativa”* é: \n",
    "- [ ] Verdadeira \n",
    "- [X] Falsa \n"
   ]
  },
  {
   "cell_type": "markdown",
   "metadata": {},
   "source": [
    "(6) A afirmação *“O fluxograma utiliza símbolos específicos, que podem variar de acordo com a ferramenta, para representar graficamente os algoritmos”* é: \n",
    "- [X] Verdadeira \n",
    "- [ ] Falsa \n"
   ]
  },
  {
   "cell_type": "markdown",
   "metadata": {},
   "source": [
    "### LISTA PARA TESTAR O CONHECIMENTO DO TERCEIRO CAPITULO"
   ]
  },
  {
   "cell_type": "markdown",
   "metadata": {},
   "source": [
    "### Faça um pseudocódigo para os exercicios a seguir:"
   ]
  },
  {
   "cell_type": "markdown",
   "metadata": {},
   "source": [
    "(7) Alice pagou uma televisão de R$ 3250.00 em 12 vezes sem juros. Qual o valor de cada parcela?"
   ]
  },
  {
   "cell_type": "code",
   "execution_count": null,
   "metadata": {},
   "outputs": [],
   "source": [
    "# solicitar ao operador qual o valor total? 3250\n",
    "# solicitar ao operador qual a quantidade de parcelas? 12\n",
    "# calcular o valor de cada parcela dividindo o valor total pela quantidade de parcelas 270,833\n",
    "# imprimir ao operador o valor de cada parcela."
   ]
  },
  {
   "cell_type": "markdown",
   "metadata": {},
   "source": [
    "(8) Uma folha de papel sulfite tem 0.1mm de espessura. Dobrando a folha ao meio, a espessura passa a ser 0.2mm. Dobrando ao meio de novo, a espessura vai para 0.4mm. Mais uma vez e a espessura aumenta para 0.8mm, e assim vai. Sabemos que não é possível dobrar uma folha de papel sulfite ao meio mais do que 5 ou 6 vezes mas, supondo que fosse possível dobrá-la 27 vezes, qual seria a espessura da dobradura resultante?\n"
   ]
  },
  {
   "cell_type": "code",
   "execution_count": null,
   "metadata": {},
   "outputs": [],
   "source": [
    "# solicitar ao operador qual a espessura inicial do papel? 0,1\n",
    "# solicitar ao operador qual a quantidade de dobras? 27\n",
    "# calcular o valor da espessura: espessura_inicial * (2 ** quantidade de dobras) ## ** é a representação de potenciação no Python\n",
    "# imprimir ao operador o valor da espessura."
   ]
  },
  {
   "cell_type": "markdown",
   "metadata": {},
   "source": [
    "(9) Uma lanchonete vende sanduíches e tem um programa de fidelidade: cada cliente tem um cartão e a cada compra o cliente recebe um carimbo em seu cartão.\n",
    "\n",
    "Após acumular 5 carimbos, o cliente ganha uma porção de batata frita de brinde.\n",
    "\n",
    "Se o cliente tem $43$ carimbos, quantas porções de batata frita ele ganhou de brinde até agora?"
   ]
  },
  {
   "cell_type": "code",
   "execution_count": null,
   "metadata": {},
   "outputs": [],
   "source": [
    "# solicitar ao operador qual a quantidade de carimbos? 43\n",
    "# solicitar ao operador qual a quantidade de carimbos para brinde? 5\n",
    "# calcular a quantidade de porções ganhas = 43 // 5 = 8 ## // é a representação de arredondamento no Python\n",
    "# imprimir ao operador a quantidade de porções ganhas."
   ]
  },
  {
   "cell_type": "markdown",
   "metadata": {},
   "source": [
    "(10) Uma barra de chocolate tem 32 quadradinhos. Uma mãe quer dividir essa barra de chocolate entre seus 5 filhos. Nenhum deles pode receber menos que cada um dos outros para não se sentir preterido.\n",
    "\n",
    "Qual é o número mínimo de quadradinhos que a mãe precisa esconder (comer) para poder dividir o restante equanimemente entre os 5?"
   ]
  },
  {
   "cell_type": "code",
   "execution_count": null,
   "metadata": {},
   "outputs": [],
   "source": [
    "# solicitar ao operador qual a quantidade de quadradinhos? 32\n",
    "# solicitar ao operador qual a quantidade de filhos? 5\n",
    "# calcular a quantidade de quadradinhos para esconder = 32 % 5 = 2 ## % é a representação de resto da divisão (somente ele será mostrado)\n",
    "# imprimir ao operador a quantidade de quadradinhos que a mãe precisa esconder."
   ]
  },
  {
   "cell_type": "markdown",
   "metadata": {},
   "source": [
    "(11) João faz 10 anos de idade hoje, neste exato momento! Na célula abaixo, calcule quantos segundos de vida ele acabou de comemorar.\n",
    "\n",
    "(Ignore os anos bissextos.)"
   ]
  },
  {
   "cell_type": "code",
   "execution_count": null,
   "metadata": {},
   "outputs": [],
   "source": [
    "# solicitar ao operador qual a quantidade de anos? 10\n",
    "# calcular a quantidade de anos em segundos = \n",
    "# quantidade em anos * 365 * 24 horas * 60 minutos * 60 segundos\n",
    "# imprimir ao operador a quantidade de anos em segundos."
   ]
  },
  {
   "cell_type": "markdown",
   "metadata": {},
   "source": [
    "(12) Uma torneira pinga a uma taxa de 1 gota por segundo. Cada gota possui um volume de 0.05 mililitros. Calcule o volume de água desperdiçado depois de exatos 3 dias de vazamento. Faça a conta de modo que a resposta seja em litros."
   ]
  },
  {
   "cell_type": "code",
   "execution_count": null,
   "metadata": {},
   "outputs": [],
   "source": [
    "# solicitar ao operador qual a quantidade de gostas por segundo? 1\n",
    "# solicitar ao operador quantidade de dias? 3\n",
    "# solicitar o volume em mililitros da gota? 0,05\n",
    "# calcular a quantidade de dias em segundos = dias(3) * 24horas * 60min * 60s = 259200 segundos\n",
    "# calcular o volume em mililitros\n",
    "#   quantidade de dias em segundos(259200) = volume em mililitros(0,05) = 12960 ml\n",
    "# calcular o volume em litros = volume em mililitros / 1000 = 12,96l\n",
    "# imprimir ao operador volume em litros."
   ]
  },
  {
   "cell_type": "markdown",
   "metadata": {},
   "source": [
    "(13) Transforme e imprima quanto é $267580$ mililitros em litros, sem a parte decimal (ou seja, descartando os valores das casas decimais)."
   ]
  },
  {
   "cell_type": "code",
   "execution_count": null,
   "metadata": {},
   "outputs": [],
   "source": [
    "# solicitar o volume em mililitros? 267580\n",
    "# calcular o volume em litros = volume em mililitros // 1000 = 267 \n",
    "# imprimir ao operador volume em litros."
   ]
  },
  {
   "cell_type": "markdown",
   "metadata": {},
   "source": [
    "(14) Quantos segundos tem em $2$ dias e $25$ minutos?"
   ]
  },
  {
   "cell_type": "code",
   "execution_count": null,
   "metadata": {},
   "outputs": [],
   "source": [
    "# solicitar a quantidade de dias? 2\n",
    "# solicitar a quantidade de minutos? 25\n",
    "# calcular os dias em minutos = dias(2) * 24 horas * 60 min\n",
    "# calcular total em minutos = dias em minutos + minutos\n",
    "# calcular total em segundos = minutos total + 60 segundos\n",
    "# imprimir o total em segundos."
   ]
  },
  {
   "cell_type": "markdown",
   "metadata": {},
   "source": [
    "(15) Suponha que capacidade do tanque de gasolina de um  carro (em litros) é 55, e que o consumo de gasolina (em km/l) é 7.7. O seu programa deve imprimir: \"Carro consegue viajar\" xxx \"kilometros com o tanque cheio ate parar.\""
   ]
  },
  {
   "cell_type": "code",
   "execution_count": null,
   "metadata": {},
   "outputs": [],
   "source": [
    "# coloque sua resposta aqui. Use os # para escrever em comentários.\n",
    "# solicitar capacidade do tanque em litros? 55\n",
    "# solicitar o consumo do veiculo em km/l ? 7,7\n",
    "# calcular a autonomia do veiculo em km = capacidade do tanque * consumo do veiculo = 423,5\n",
    "# imprimir a autonomia do veiculo em km\n"
   ]
  }
 ],
 "metadata": {
  "kernelspec": {
   "display_name": "Python 3 (ipykernel)",
   "language": "python",
   "name": "python3"
  },
  "language_info": {
   "codemirror_mode": {
    "name": "ipython",
    "version": 3
   },
   "file_extension": ".py",
   "mimetype": "text/x-python",
   "name": "python",
   "nbconvert_exporter": "python",
   "pygments_lexer": "ipython3",
   "version": "3.11.4"
  }
 },
 "nbformat": 4,
 "nbformat_minor": 2
}
