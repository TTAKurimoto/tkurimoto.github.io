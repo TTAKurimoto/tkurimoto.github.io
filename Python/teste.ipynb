{
 "cells": [
  {
   "cell_type": "markdown",
   "metadata": {},
   "source": [
    "Podemos utilizar HTML para formatar o Notebook-Mardown\n",
    "# Titulo - Para executar via atalho - shift+enter\n",
    "## Titulo 2\n",
    "### Titulo 3\n",
    "Paragrafo normal - para separar os paragrafos, dois enters no final ou dois espaços\n",
    "\n",
    "Paragrafo **normal 2**\n",
    "\n",
    "Paragrafo ***normal 3***\n",
    "\n",
    "Lista Ordenada\n",
    "\n",
    "1. teste\n",
    "1. teste\n",
    "1. testes\n",
    "\n",
    "Lista não ordenada\n",
    "\n",
    "- teste\n",
    "- teste\n",
    "- teste\n",
    "\n",
    "Lista com niveis\n",
    "\n",
    "- teste\n",
    "   - teste 1\n",
    "     - teste 2\n",
    "       - teste 3\n",
    "- teste\n",
    "- teste\n",
    "\n",
    "Lista de tarefas - para marcar, adicionar um X dentro dos colchetes ao inves do espaço\n",
    "- [X] Tarefa 1\n",
    "- [ ] Tarefa 2\n",
    "- [ ] Tarefa 3\n",
    "\n",
    "Tabelas - utilizando barra vertical ou Pipe\n",
    "| Padrão | Esquerda | Centralizado | Direita |\n",
    "| --- | :--- | :---: | ---: |\n",
    "| A | B | C | D |\n",
    "| 1 | 2 | 3 | 4 |\n",
    "\n",
    "### Links\n",
    "[Clique aqui](https://sbc.sp.senai.br/curso/97726/120/implantacao-de-servicos-em-nuvem-aws-cloud-practitioner-foundational?bolsa=true)\n",
    "\n",
    "### Imagem com link\n",
    "![Logo do Senai](https://upload.wikimedia.org/wikipedia/commons/thumb/8/8c/SENAI_S%C3%A3o_Paulo_logo.png/1280px-SENAI_S%C3%A3o_Paulo_logo.png)\n",
    "\n",
    "### Imagem Local - imagem deve estar no mesmo repositorio\n",
    "![Logo do Senai](imagem.jpg)\n"
   ]
  },
  {
   "cell_type": "code",
   "execution_count": 11,
   "metadata": {},
   "outputs": [
    {
     "name": "stdout",
     "output_type": "stream",
     "text": [
      "Olá Mundo!\n"
     ]
    }
   ],
   "source": [
    "# Codigo que imprime na tela o texto \"Olá Mundo!\" - Explicito é melhor que implicito - deixo descrito o que foi feito ou o que será feito.\n",
    "print(\"Olá Mundo!\") # execução da instrução print"
   ]
  },
  {
   "cell_type": "code",
   "execution_count": null,
   "metadata": {},
   "outputs": [],
   "source": []
  }
 ],
 "metadata": {
  "kernelspec": {
   "display_name": "base",
   "language": "python",
   "name": "python3"
  },
  "language_info": {
   "codemirror_mode": {
    "name": "ipython",
    "version": 3
   },
   "file_extension": ".py",
   "mimetype": "text/x-python",
   "name": "python",
   "nbconvert_exporter": "python",
   "pygments_lexer": "ipython3",
   "version": "3.11.4"
  },
  "orig_nbformat": 4
 },
 "nbformat": 4,
 "nbformat_minor": 2
}
