{
 "cells": [
  {
   "cell_type": "markdown",
   "metadata": {},
   "source": [
    "# Pseudocódigo 1 - Calcular área\n",
    "\n",
    "Pseudocódigo para calculo da area de um paralelograma"
   ]
  },
  {
   "cell_type": "code",
   "execution_count": null,
   "metadata": {},
   "outputs": [],
   "source": [
    "# solicitar ao operador o valor da base\n",
    "# solicitar ao operador o valor da altura\n",
    "# calcular a area multiplicando a base pela altura\n",
    "# imprimir o resultado da multiplicação"
   ]
  },
  {
   "cell_type": "markdown",
   "metadata": {},
   "source": [
    "# Pseudocódigo 2 - Calculadora simples\n",
    "\n",
    "Pseudocódigo para uma calculadora simples"
   ]
  },
  {
   "cell_type": "code",
   "execution_count": null,
   "metadata": {},
   "outputs": [],
   "source": [
    "# solicitar ao operador o primeiro valor e salvar em numero1\n",
    "# solicitar ao operador para solicitar uma operação (+,-,*,/)\n",
    "# solicitar ao operador o segundo valor e salvar em numero2\n",
    "# se '+' : resultado = numero1 + numero2\n",
    "# se '-' : resultado = numero1 - numero2\n",
    "# se '*' : resultado = numero1 * numero2\n",
    "# se '/' : resultado = numero1 / numero2\n",
    "# imprimir o valor de resultado da operação na saida"
   ]
  }
 ],
 "metadata": {
  "language_info": {
   "name": "python"
  },
  "orig_nbformat": 4
 },
 "nbformat": 4,
 "nbformat_minor": 2
}
