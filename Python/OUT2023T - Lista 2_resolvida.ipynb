{
 "cells": [
  {
   "cell_type": "markdown",
   "metadata": {},
   "source": [
    "### Faça um código para os exercicios a seguir:"
   ]
  },
  {
   "cell_type": "markdown",
   "metadata": {},
   "source": [
    "(1) Alice pagou uma televisão de R$ 3250.00 em 12 vezes sem juros. Qual o valor de cada parcela?"
   ]
  },
  {
   "cell_type": "code",
   "execution_count": 1,
   "metadata": {},
   "outputs": [
    {
     "name": "stdout",
     "output_type": "stream",
     "text": [
      "270.83\n"
     ]
    }
   ],
   "source": [
    "# coloque sua resposta aqui. Use os # para escrever em comentários.\n",
    "# solicitar ao operador qual o valor total? 3250\n",
    "valorTotal = 3250\n",
    "# solicitar ao operador qual a quantidade de parcelas? 12\n",
    "quantidadeParcelas = 12\n",
    "# calcular o valor de cada parcela divindo o valor total pela quantidade de parcelas? 270,833\n",
    "valorParcela = valorTotal / quantidadeParcelas\n",
    "# imprimir ao operador o valo de cada parcela.\n",
    "print(round(valorParcela, 2))"
   ]
  },
  {
   "cell_type": "markdown",
   "metadata": {},
   "source": [
    "(2) Uma folha de papel sulfite tem 0.1mm de espessura. Dobrando a folha ao meio, a espessura passa a ser 0.2mm. Dobrando ao meio de novo, a espessura vai para 0.4mm. Mais uma vez e a espessura aumenta para 0.8mm, e assim vai. Sabemos que não é possível dobrar uma folha de papel sulfite ao meio mais do que 5 ou 6 vezes mas, supondo que fosse possível dobrá-la 27 vezes, qual seria a espessura da dobradura resultante?\n"
   ]
  },
  {
   "cell_type": "code",
   "execution_count": 2,
   "metadata": {},
   "outputs": [
    {
     "name": "stdout",
     "output_type": "stream",
     "text": [
      "13421772.8\n"
     ]
    }
   ],
   "source": [
    "# coloque sua resposta aqui. Use os # para escrever em comentários.\n",
    "# solicitar ao operador qual a espessura inicial do papel? 0,1\n",
    "espessura_inicial = 0.1\n",
    "# solicitar ao operador qual a quantidade de dobras? 27\n",
    "qtd_dobras = 27\n",
    "# calcular o valor da espessura : espessura_inicial * (2 ** quantidade_de_dobras )\n",
    "espessura_final = espessura_inicial * (2 ** qtd_dobras)\n",
    "\n",
    "# imprimir ao operador o valor da espessura.\n",
    "print(espessura_final)"
   ]
  },
  {
   "cell_type": "markdown",
   "metadata": {},
   "source": [
    "(3) Uma lanchonete vende sanduíches e tem um programa de fidelidade: cada cliente tem um cartão e a cada compra o cliente recebe um carimbo em seu cartão.\n",
    "\n",
    "Após acumular 5 carimbos, o cliente ganha uma porção de batata frita de brinde.\n",
    "\n",
    "Se o cliente tem $43$ carimbos, quantas porções de batata frita ele ganhou de brinde até agora?"
   ]
  },
  {
   "cell_type": "code",
   "execution_count": 3,
   "metadata": {},
   "outputs": [
    {
     "name": "stdout",
     "output_type": "stream",
     "text": [
      "8\n"
     ]
    }
   ],
   "source": [
    "# coloque sua resposta aqui. Use os # para escrever em comentários.\n",
    "\n",
    "# solicitar ao operador qual a quantidade de carimbos? 43\n",
    "quantidade_de_carimbos = 43\n",
    "\n",
    "# solicitar ao operador qual a quantidade de carimbos para brinde? 5\n",
    "quantidade_de_carimbos_brinde = 5\n",
    "\n",
    "# calcular a quantidade de porções ganhadas = 43 // 5 = 8\n",
    "quantidade_de_porcoes_ganhas = 43 // 5\n",
    "\n",
    "# imprimir ao operador a quantidade de porções ganhadas.\n",
    "print(quantidade_de_porcoes_ganhas)"
   ]
  },
  {
   "cell_type": "markdown",
   "metadata": {},
   "source": [
    "(4) Uma barra de chocolate tem 32 quadradinhos. Uma mãe quer dividir essa barra de chocolate entre seus 5 filhos. Nenhum deles pode receber menos que cada um dos outros para não se sentir preterido.\n",
    "\n",
    "Qual é o número mínimo de quadradinhos que a mãe precisa esconder (comer) para poder dividir o restante equanimemente entre os 5?"
   ]
  },
  {
   "cell_type": "code",
   "execution_count": 4,
   "metadata": {},
   "outputs": [
    {
     "name": "stdout",
     "output_type": "stream",
     "text": [
      "2\n"
     ]
    }
   ],
   "source": [
    "# coloque sua resposta aqui. Use os # para escrever em comentários.\n",
    "# solicitar ao operador qual a quantidade de quadradinhos? 32\n",
    "Qtd_Quadradinhos = 32\n",
    "# solicitar ao operador qual a quantidade de filhos? 5\n",
    "Qtd_Filhos = 5\n",
    "# calcular a quantidade de quadradinhos para esconder = 32 % 5 = 2\n",
    "Calculo_Final = 32 % 5\n",
    "# imprimir ao operador a quantidade de quadradinhos que a mãe precisa esconder.\n",
    "print(Calculo_Final)"
   ]
  },
  {
   "cell_type": "markdown",
   "metadata": {},
   "source": [
    "(5) João faz 10 anos de idade hoje, neste exato momento! Na célula abaixo, calcule quantos segundos de vida ele acabou de comemorar.\n",
    "\n",
    "(Ignore os anos bissextos.)"
   ]
  },
  {
   "cell_type": "code",
   "execution_count": 5,
   "metadata": {},
   "outputs": [
    {
     "name": "stdout",
     "output_type": "stream",
     "text": [
      "315360000\n"
     ]
    }
   ],
   "source": [
    "# coloque sua resposta aqui. Use os # para escrever em comentários.\n",
    "# solicitar ao operador qual a quantidade de anos? 10\n",
    "idade_joão = 10\n",
    "# calcular a quantidade de anos em segundos =\n",
    "# quantidade em anos * 365 dias * 24 horas * 60 minutos * 60 segundos\n",
    "total_anos_segundos = idade_joão * 365 * 24 * 60 *60\n",
    "# imprimir ao operador a quantidade de anos em segundos.\n",
    "print(total_anos_segundos)"
   ]
  },
  {
   "cell_type": "markdown",
   "metadata": {},
   "source": [
    "(6) Uma torneira pinga a uma taxa de 1 gota por segundo. Cada gota possui um volume de 0.05 mililitros. Calcule o volume de água desperdiçado depois de exatos 3 dias de vazamento. Faça a conta de modo que a resposta seja em litros."
   ]
  },
  {
   "cell_type": "code",
   "execution_count": 6,
   "metadata": {},
   "outputs": [
    {
     "name": "stdout",
     "output_type": "stream",
     "text": [
      "12.96\n"
     ]
    }
   ],
   "source": [
    "# coloque sua resposta aqui. Use os # para escrever em comentários.\n",
    "\n",
    "# solicitar ao operador qual a quantidade de gostas por segundo? 1\n",
    "gotasporSegundo = 1\n",
    "# solicitar a quantidade de dias? 3\n",
    "qtdDias = 3\n",
    "# solicitar o volume em mililitros da gota ? 0,05\n",
    "volumeMililitros = 0.05 \n",
    "\n",
    "# calcular a quantidade de dias em segundos = dias(3) * 24horas * 60min * 60s = 259200 seg\n",
    "diasemSegundos = qtdDias * 24 * 60 * 60\n",
    "# calcular o volume em mililitros = \n",
    "#    quantidade de dias em segundo(259200) * volume em mililitros(0.05) = 12960 ml\n",
    "resultado = diasemSegundos * volumeMililitros\n",
    "# calcular o volume em litros = volume em mililitros / 1000 = 12,96l\n",
    "volumeLitros = resultado / 1000\n",
    "# imprimir ao operadoro volume em litros.\n",
    "print (volumeLitros)"
   ]
  },
  {
   "cell_type": "markdown",
   "metadata": {},
   "source": [
    "(7) Transforme e imprima quanto é $267580$ mililitros em litros, sem a parte decimal (ou seja, descartando os valores das casas decimais)."
   ]
  },
  {
   "cell_type": "code",
   "execution_count": 7,
   "metadata": {},
   "outputs": [
    {
     "name": "stdout",
     "output_type": "stream",
     "text": [
      "267\n"
     ]
    }
   ],
   "source": [
    "# coloque sua resposta aqui. Use os # para escrever em comentários.\n",
    "# solicitar o volume em mililitros? 267580\n",
    "volume_ml = 267580\n",
    "# calcular o volume em litros = 267580 // 1000 = 267\n",
    "volume_L = volume_ml // 1000\n",
    "# imprimir o volume em litros\n",
    "print(volume_L)"
   ]
  },
  {
   "cell_type": "markdown",
   "metadata": {},
   "source": [
    "(8) Quantos segundos tem em $2$ dias e $25$ minutos?"
   ]
  },
  {
   "cell_type": "code",
   "execution_count": 9,
   "metadata": {},
   "outputs": [
    {
     "name": "stdout",
     "output_type": "stream",
     "text": [
      "174300\n"
     ]
    }
   ],
   "source": [
    "# coloque sua resposta aqui. Use os # para escrever em comentários.\n",
    "# solicitar a quantidade de dias? 2\n",
    "qtd_dias = 2\n",
    "# solicitar a quantidade de minutos? 25\n",
    "qtd_min = 25\n",
    "# calcular os dias em minutos = dias(2) * 24 horas * 60 min \n",
    "dia_minutos = qtd_dias * 24 *60\n",
    "# calcular o total em minutos = dias em minutos + minutos\n",
    "minutos = dia_minutos +  qtd_min\n",
    "# calcular o total em segundos = minutos total * 60 segundos\n",
    "total_segundos = minutos * 60\n",
    "# imprimir o total em segundos \n",
    "print(total_segundos)"
   ]
  },
  {
   "cell_type": "markdown",
   "metadata": {},
   "source": [
    "(9) Suponha que capacidade do tanque de gasolina de um  carro (em litros) é 55, e que o consumo de gasolina (em km/l) é 7.7. O seu programa deve imprimir: \"Carro consegue viajar\" xxx \"kilometros com o tanque cheio ate parar.\""
   ]
  },
  {
   "cell_type": "code",
   "execution_count": 10,
   "metadata": {},
   "outputs": [
    {
     "name": "stdout",
     "output_type": "stream",
     "text": [
      "423.5\n"
     ]
    }
   ],
   "source": [
    "# coloque sua resposta aqui. Use os # para escrever em comentários.\n",
    "# solicitar capacidade do tanque em litros? 55\n",
    "capacidade_tanque = 55\n",
    "# solicitar o consumo do veiculo em km/l ? 7,7\n",
    "consumo_km = 7.7\n",
    "# calcular a autonomia do veiculo em km = capacidade do tanque * consumo do veiculo = 423,5\n",
    "autonomia = capacidade_tanque * consumo_km\n",
    "# imprimir a autonomia do veiculo em km\n",
    "print(autonomia)"
   ]
  },
  {
   "cell_type": "markdown",
   "metadata": {},
   "source": [
    "(10) Faça um programa que mostra na tela a média ponderada de um aluno que \n",
    "tirou $87$ pontos na Prova 1 (P1) e $78$ pontos na Prova 2 (P2), considerando que o peso da P1 é $2.5$ e o peso da P2 é $4.0$ (portanto a soma dos pesos é $6.5$).\n"
   ]
  },
  {
   "cell_type": "code",
   "execution_count": 12,
   "metadata": {},
   "outputs": [
    {
     "name": "stdout",
     "output_type": "stream",
     "text": [
      "81.46\n"
     ]
    }
   ],
   "source": [
    "# coloque sua resposta aqui. Use os # para escrever em comentários.\n",
    "#Pontuação da Prova 1\n",
    "P1 = 87\n",
    "#Pontuação da Prova 2\n",
    "P2 = 78\n",
    "#Multiplicação da prova 1 pelo peso\n",
    "Nponderada1 = P1 * 2.5\n",
    "#Multiplicação da prova 2 pelo peso\n",
    "Nponderada2 = P2 * 4\n",
    "#Média ponderada = Soma das notas Ponderadas / Soma dos pesos\n",
    "Média_ponderada = (Nponderada1+Nponderada2) / (2.5+4)\n",
    "#exibir o resultado\n",
    "print(round(Média_ponderada,2))\n"
   ]
  },
  {
   "cell_type": "markdown",
   "metadata": {},
   "source": [
    "(11) Um investidor depositou uma quantia na poupança, que rende $p$ porcento ao mês. Ajude o investidor a calcular quanto ele terá depois de 11 meses, supondo que \n",
    "\n",
    "quantia depositada $d$ = 200 R$;\n",
    "\n",
    "taxa de rendimento da poupança $p$ = 0.13; (13%)\n",
    "\n",
    "numero de meses que o dinheiro ficará rendendo $t$ = 11.\n",
    "\n",
    "Imprima o montante de dinheiro na poupança após os $t$ meses.\n",
    "\n",
    "Lembre-se que a quantia $D$\n",
    "após $t$ meses pode ser calculada por\n",
    "$$D=d*(1+\\frac{p}{100})^t.$$\n"
   ]
  },
  {
   "cell_type": "code",
   "execution_count": 13,
   "metadata": {},
   "outputs": [
    {
     "name": "stdout",
     "output_type": "stream",
     "text": [
      "767.17\n"
     ]
    }
   ],
   "source": [
    "# coloque sua resposta aqui. Use os # para escrever em comentários.\n",
    "# solicitar a quantia depositada\n",
    "d = 200\n",
    "# solicitar a taxa do rendimento\n",
    "p = 0.13\n",
    "# solicitar a quantidade de meses\n",
    "t = 11\n",
    "# calcule o valor do montante\n",
    "D= d * ((1+p)**t)\n",
    "print(round(D,2))\n",
    "\n"
   ]
  },
  {
   "cell_type": "markdown",
   "metadata": {},
   "source": [
    "(12) O cliente de uma empresa gostaria de um programa que convertesse $10000$\n",
    "segundos em horas, minutos e segundos.\n",
    "\n",
    "Dica: use os operadores de divisão inteira `//` e resto `%`."
   ]
  },
  {
   "cell_type": "code",
   "execution_count": 14,
   "metadata": {},
   "outputs": [
    {
     "name": "stdout",
     "output_type": "stream",
     "text": [
      "2 46 40\n"
     ]
    }
   ],
   "source": [
    "# coloque sua resposta aqui. Use os # para escrever em comentários.\n",
    "# solicitar o valor em segundos\n",
    "valor_em_segundos = 10000\n",
    "# definir as constantes de tempo\n",
    "qtd_segundos_no_minuto = 60\n",
    "qtd_segundos_na_hora = 60 * qtd_segundos_no_minuto\n",
    "# calcular a quantidade de horas dentro do valor em segundos\n",
    "horas = valor_em_segundos // qtd_segundos_na_hora\n",
    "# calcular a quantidade de segundos restantes\n",
    "segundos_restantes = valor_em_segundos % qtd_segundos_na_hora\n",
    "# calcular a quantidade de minutos dentro dos segundos restantes\n",
    "minutos = segundos_restantes // qtd_segundos_no_minuto\n",
    "# calcular a quantidade de segundos restantes\n",
    "segundos = segundos_restantes % qtd_segundos_no_minuto\n",
    "# imprimir o valor de cada variável\n",
    "print(horas, minutos, segundos)"
   ]
  }
 ],
 "metadata": {
  "kernelspec": {
   "display_name": "Python 3 (ipykernel)",
   "language": "python",
   "name": "python3"
  },
  "language_info": {
   "codemirror_mode": {
    "name": "ipython",
    "version": 3
   },
   "file_extension": ".py",
   "mimetype": "text/x-python",
   "name": "python",
   "nbconvert_exporter": "python",
   "pygments_lexer": "ipython3",
   "version": "3.11.4"
  }
 },
 "nbformat": 4,
 "nbformat_minor": 2
}
